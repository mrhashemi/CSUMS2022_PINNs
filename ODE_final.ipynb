{
  "cells": [
    {
      "cell_type": "markdown",
      "metadata": {
        "id": "XShk0X9jE24p"
      },
      "source": [
        "Based on the code developed by <a href=\"https://github.com/janblechschmidt/PDEsByNNs\" target=\"_parent\"> Jan Blechschmidt </a> (originally introduced by <a href=\"https://github.com/maziarraissi/PINNs\" target=\"_parent\"> Maziar Raissi </a>).\n",
        "\n",
        "<a href=\"https://colab.research.google.com/github/janblechschmidt/PDEsByNNs/blob/main/PINN_Solver.ipynb\" target=\"_parent\">\n",
        "    <img src=\"https://colab.research.google.com/assets/colab-badge.svg\" alt=\"Open In Colab\"/>\n",
        "</a>"
      ]
    },
    {
      "cell_type": "code",
      "execution_count": null,
      "metadata": {
        "id": "8kzRCxT2E24s"
      },
      "outputs": [],
      "source": [
        "import tensorflow as tf\n",
        "import numpy as np"
      ]
    },
    {
      "cell_type": "markdown",
      "metadata": {
        "id": "xs2wxbZ3E24t"
      },
      "source": [
        "The ordinary differential equation is\n",
        "\n",
        "$\\frac{d^2 u}{dx^2} = \\alpha$,\n",
        "\n",
        "applied to the domain of $x \\in [0, 1]$,\n",
        "\n",
        "subject to boundary condition of\n",
        "\n",
        "$u(0) = u(1) = 0$.\n",
        "\n",
        "The aim is to find the solution for $\\alpha = 0.3$."
      ]
    },
    {
      "cell_type": "code",
      "execution_count": null,
      "metadata": {
        "id": "gG948wgnE24u"
      },
      "outputs": [],
      "source": [
        "# Set data type\n",
        "DTYPE='float32'   # 'float64'\n",
        "tf.keras.backend.set_floatx(DTYPE)\n",
        "\n",
        "# Define boundary condition\n",
        "def fun_u_b(x):\n",
        "    n = x.shape[0]\n",
        "    return tf.zeros((n,1), dtype=DTYPE)\n",
        "\n",
        "alpha_test = 0.3\n",
        "\n",
        "def heat_eq_exact_solution(x, alpha):\n",
        "    return alpha/2.0*x*(x-1)\n",
        "\n",
        "# Define residual of the DE (we keep x, u, and u_x in the input for the generalization purpose)\n",
        "def fun_r(x, u, u_x, u_xx, alpha):\n",
        "    return alpha - u_xx"
      ]
    },
    {
      "cell_type": "code",
      "execution_count": null,
      "metadata": {
        "id": "RIdDd9IHE24w"
      },
      "outputs": [],
      "source": [
        "# Set number of data points\n",
        "N_b = 20 # Number of data point for imposing the boundary condition (Dirichlet)\n",
        "N_r = 500 # Number of data point for minimizing the residual of the PDE\n",
        "\n",
        "# Set boundary\n",
        "xmin = 0.\n",
        "xmax = 1.\n",
        "\n",
        "# Lower bounds\n",
        "lb = tf.constant(xmin, dtype=DTYPE)\n",
        "# Upper bounds\n",
        "ub = tf.constant(xmax, dtype=DTYPE)\n",
        "\n",
        "# Set random seed for reproducible results\n",
        "tf.random.set_seed(0)"
      ]
    },
    {
      "cell_type": "code",
      "execution_count": null,
      "metadata": {
        "id": "jfrnrfe3E24w"
      },
      "outputs": [],
      "source": [
        "# Boundary data\n",
        "X_b = lb + (ub - lb) * tf.keras.backend.random_bernoulli((N_b,1), 0.5, dtype=DTYPE)\n",
        "\n",
        "# Evaluate boundary condition at (t_b,x_b)\n",
        "u_b = fun_u_b(X_b)"
      ]
    },
    {
      "cell_type": "code",
      "execution_count": null,
      "metadata": {
        "id": "DATxhjCxE24z"
      },
      "outputs": [],
      "source": [
        "# Draw uniformly sampled collocation points\n",
        "X_r = tf.random.uniform((N_r,1), lb, ub, dtype=DTYPE)\n",
        "\n",
        "# Collect boundary and inital data in lists\n",
        "X_data = [X_b]\n",
        "u_data = [u_b]\n",
        "\n",
        "# Copy original data\n",
        "X_param = X_data\n",
        "u_param = u_data"
      ]
    },
    {
      "cell_type": "code",
      "execution_count": null,
      "metadata": {
        "id": "oaQVpHsmE240"
      },
      "outputs": [],
      "source": [
        "#N_d = 500   # Number of provided data points\n",
        "#noise = 0.01\n",
        "\n",
        "# Draw points with measurements randomly\n",
        "#X_d = tf.random.uniform((N_d,1), lb, ub, dtype=DTYPE)\n",
        "#u_d = heat_eq_exact_solution(X_d, alpha_test)\n",
        "#u_d += noise * tf.random.normal(u_d.shape, dtype=DTYPE)"
      ]
    },
    {
      "cell_type": "code",
      "execution_count": null,
      "metadata": {
        "colab": {
          "base_uri": "https://localhost:8080/",
          "height": 404
        },
        "id": "VtfTk6Y0E241",
        "outputId": "addafa0d-9fde-44fd-deb1-fb950b76dcfd"
      },
      "outputs": [
        {
          "output_type": "display_data",
          "data": {
            "text/plain": [
              "<Figure size 648x432 with 1 Axes>"
            ],
            "image/png": "[encoded data removed]"
          },
          "metadata": {
            "needs_background": "light"
          }
        }
      ],
      "source": [
        "import matplotlib.pyplot as plt\n",
        "\n",
        "fig = plt.figure(figsize=(9,6))\n",
        "plt.scatter(X_b, tf.zeros((X_b.shape[0],1)), c=u_b, marker='X', vmin=-1, vmax=1)\n",
        "plt.scatter(X_r, tf.zeros((X_r.shape[0],1)), c='r', marker='.', alpha=0.1)\n",
        "plt.scatter(X_d, tf.zeros((X_d.shape[0],1)), c=u_d, marker='X', vmin=-1, vmax=1)\n",
        "plt.xlabel('$x$')\n",
        "\n",
        "plt.title('Positions of collocation points');"
      ]
    },
    {
      "cell_type": "code",
      "execution_count": null,
      "metadata": {
        "id": "AJOcpWgmE242"
      },
      "outputs": [],
      "source": [
        "# The exact data will be treated similar to the IC and Dirichlet BC\n",
        "X_param.append(X_d)\n",
        "u_param.append(u_d)"
      ]
    },
    {
      "cell_type": "code",
      "execution_count": null,
      "metadata": {
        "id": "6ycvfHMhE243"
      },
      "outputs": [],
      "source": [
        "# Creating a class derived from Keras Model to modify it according to the needed architecture\n",
        "class PINN_NeuralNet(tf.keras.Model):\n",
        "    \"\"\" Set basic architecture of the PINN model.\"\"\"\n",
        "\n",
        "    def __init__(self, lb, ub,\n",
        "            output_dim=1,\n",
        "            num_hidden_layers=4,\n",
        "            num_neurons_per_layer=10,\n",
        "            activation='tanh',\n",
        "            kernel_initializer='glorot_normal',\n",
        "            **kwargs):\n",
        "        super().__init__(**kwargs)\n",
        "\n",
        "        self.num_hidden_layers = num_hidden_layers\n",
        "        self.output_dim = output_dim\n",
        "        self.lb = lb\n",
        "        self.ub = ub\n",
        "\n",
        "        # Define NN architecture\n",
        "        self.scale = tf.keras.layers.Lambda(\n",
        "            lambda x: 2.0*(x - lb)/(ub - lb) - 1.0)\n",
        "        self.hidden = [tf.keras.layers.Dense(num_neurons_per_layer,\n",
        "                             activation=tf.keras.activations.get(activation),\n",
        "                             kernel_initializer=kernel_initializer)\n",
        "                           for _ in range(self.num_hidden_layers)]\n",
        "        self.out = tf.keras.layers.Dense(output_dim)\n",
        "\n",
        "        # Initialize variable for unknown prameter (alpha)\n",
        "        self.alpha = alpha_test # tf.Variable(1.0, trainable=True, dtype=DTYPE) # We use the same data type for alpha (as the other variables)\n",
        "\n",
        "    def call(self, X):\n",
        "        \"\"\"Forward-pass through neural network.\"\"\"\n",
        "        Z = self.scale(X)\n",
        "        for i in range(self.num_hidden_layers):\n",
        "            Z = self.hidden[i](Z)\n",
        "        return self.out(Z)"
      ]
    },
    {
      "cell_type": "code",
      "execution_count": null,
      "metadata": {
        "id": "rJCFCZtkE243"
      },
      "outputs": [],
      "source": [
        "def get_r(model, X_r):\n",
        "\n",
        "    # A tf.GradientTape is used to compute derivatives in TensorFlow\n",
        "    with tf.GradientTape(persistent=True) as tape:\n",
        "        x = X_r #[:, 0:1]\n",
        "\n",
        "        # Variables t and x are watched during tape. Keeping \"watch_accessed_variables=True\" (default) still we cannot can skip this step\n",
        "        # to compute derivatives\n",
        "        tape.watch(x)\n",
        "\n",
        "        # Determine residual\n",
        "        u = model(x)#tf.stack(x[:,0]))\n",
        "\n",
        "        # Compute gradient u_x within the GradientTape\n",
        "        u_x = tape.gradient(u, x) # since we also need the derivative of u_x (du_x/dx), it should be inside the tape\n",
        "\n",
        "    u_xx = tape.gradient(u_x, x) # For higher efficiency these gradients are calculated outside the Tape.\n",
        "\n",
        "    del tape\n",
        "\n",
        "    return fun_r(x, u, u_x, u_xx, model.alpha)"
      ]
    },
    {
      "cell_type": "code",
      "execution_count": null,
      "metadata": {
        "id": "XciT4Q1IE244"
      },
      "outputs": [],
      "source": [
        "def compute_loss(model, X_r, X_data, u_data):\n",
        "\n",
        "    # Compute phi^r\n",
        "    r = get_r(model, X_r)\n",
        "    phi_r = tf.reduce_mean(tf.square(r))\n",
        "\n",
        "    # Initialize loss\n",
        "    pde_factor = 1.0  # This is used to make its dimension consistent with the loss (in case for example Dx is far from unity)\n",
        "    loss = pde_factor*phi_r\n",
        "\n",
        "    # Add phi^0 and phi^b to the loss\n",
        "    for i in range(len(X_data)):\n",
        "        u_pred = model(X_data[i])\n",
        "        loss += tf.reduce_mean(tf.square(u_data[i] - u_pred))\n",
        "\n",
        "    return loss, phi_r"
      ]
    },
    {
      "cell_type": "code",
      "execution_count": null,
      "metadata": {
        "id": "0_Sr1GWsE244"
      },
      "outputs": [],
      "source": [
        "def get_grad(model, X_r, X_data, u_data):\n",
        "\n",
        "    with tf.GradientTape(persistent=True) as tape:\n",
        "        # This tape is for derivatives with\n",
        "        # respect to trainable variables\n",
        "        tape.watch(model.trainable_variables)\n",
        "        loss, loss_pde = compute_loss(model, X_r, X_data, u_data)\n",
        "\n",
        "    grad = tape.gradient(loss, model.trainable_variables)\n",
        "    del tape\n",
        "\n",
        "    return loss, loss_pde, grad"
      ]
    },
    {
      "cell_type": "code",
      "execution_count": null,
      "metadata": {
        "id": "OaBOG0SME245"
      },
      "outputs": [],
      "source": [
        "# Initialize model\n",
        "model = PINN_NeuralNet(lb, ub, num_hidden_layers=2,\n",
        "                            activation= 'tanh', # tf.keras.layers.LeakyReLU(alpha=0.1)\n",
        "                            kernel_initializer='glorot_normal') # 'he_normal'\n",
        "\n",
        "#model.build(input_shape=(None,1))\n",
        "\n",
        "# We choose a piecewise decay of the learning rate, i.e., the\n",
        "# step size in the gradient descent type algorithm\n",
        "# the first 1000 steps use a learning rate of 0.01\n",
        "# from 1000 - 3000: learning rate = 0.001\n",
        "# from 3000 onwards: learning rate = 0.0005\n",
        "\n",
        "learn_rate = tf.keras.optimizers.schedules.PiecewiseConstantDecay([1000,3000,10000],[2e-3,1e-3,5e-4,1e-4])\n",
        "\n",
        "# Choose the optimizer\n",
        "optimizer = tf.keras.optimizers.Adam(learning_rate=learn_rate)"
      ]
    },
    {
      "cell_type": "code",
      "execution_count": null,
      "metadata": {
        "id": "Ve3OM2TjE245"
      },
      "outputs": [],
      "source": [
        "# Define one training step as a TensorFlow function to increase speed of training\n",
        "@tf.function\n",
        "def train_step():\n",
        "    # Compute current loss and gradient w.r.t. parameters\n",
        "    loss, loss_pde, grad_theta = get_grad(model, X_r, X_param, u_param)\n",
        "\n",
        "    # Perform gradient descent step\n",
        "    optimizer.apply_gradients(zip(grad_theta, model.trainable_variables))\n",
        "\n",
        "    return loss, loss_pde"
      ]
    },
    {
      "cell_type": "code",
      "execution_count": null,
      "metadata": {
        "colab": {
          "base_uri": "https://localhost:8080/"
        },
        "id": "0j4xUK3OE246",
        "outputId": "8ee64d78-09ce-46e1-a7ca-e4b304ae8ad5"
      },
      "outputs": [
        {
          "output_type": "stream",
          "name": "stdout",
          "text": [
            "WARNING:tensorflow:Calling GradientTape.gradient on a persistent tape inside its context is significantly less efficient than calling it outside the context (it causes the gradient ops to be recorded on the tape, leading to increased CPU and memory usage). Only call GradientTape.gradient inside the context if you actually want to trace the gradient in order to compute higher order derivatives.\n",
            "It 00000: loss = 6.11992657e-01 loss_pde = 4.43808854e-01\n",
            "It 00050: loss = 1.58007853e-02 loss_pde = 1.53845716e-02\n",
            "It 00100: loss = 3.81320645e-03 loss_pde = 3.68434540e-03\n",
            "It 00150: loss = 1.33449165e-03 loss_pde = 1.22690492e-03\n",
            "It 00200: loss = 1.01566303e-03 loss_pde = 9.14197124e-04\n",
            "It 00250: loss = 9.07457201e-04 loss_pde = 8.07469711e-04\n",
            "It 00300: loss = 8.25272116e-04 loss_pde = 7.25648191e-04\n",
            "It 00350: loss = 7.53317145e-04 loss_pde = 6.53796305e-04\n",
            "It 00400: loss = 6.89096400e-04 loss_pde = 5.89612115e-04\n",
            "It 00450: loss = 6.31936884e-04 loss_pde = 5.32468839e-04\n",
            "It 00500: loss = 5.81245986e-04 loss_pde = 4.81787283e-04\n",
            "It 00550: loss = 5.36377716e-04 loss_pde = 4.36924835e-04\n",
            "It 00600: loss = 4.96677007e-04 loss_pde = 3.97228025e-04\n",
            "It 00650: loss = 4.61522199e-04 loss_pde = 3.62076185e-04\n",
            "It 00700: loss = 4.30344982e-04 loss_pde = 3.30901210e-04\n",
            "It 00750: loss = 4.02638922e-04 loss_pde = 3.03196633e-04\n",
            "It 00800: loss = 3.77959077e-04 loss_pde = 2.78517924e-04\n",
            "It 00850: loss = 3.55917902e-04 loss_pde = 2.56477273e-04\n",
            "It 00900: loss = 3.36179306e-04 loss_pde = 2.36738997e-04\n",
            "It 00950: loss = 3.18454404e-04 loss_pde = 2.19014095e-04\n",
            "It 01000: loss = 3.02493077e-04 loss_pde = 2.03052696e-04\n",
            "It 01050: loss = 2.94932106e-04 loss_pde = 1.95491710e-04\n",
            "It 01100: loss = 2.87766277e-04 loss_pde = 1.88325721e-04\n",
            "It 01150: loss = 2.80835258e-04 loss_pde = 1.81394498e-04\n",
            "It 01200: loss = 2.74138059e-04 loss_pde = 1.74697241e-04\n",
            "It 01250: loss = 2.67675525e-04 loss_pde = 1.68234386e-04\n",
            "It 01300: loss = 2.61442707e-04 loss_pde = 1.62001335e-04\n",
            "It 01350: loss = 2.55436025e-04 loss_pde = 1.55994348e-04\n",
            "It 01400: loss = 2.49651901e-04 loss_pde = 1.50209919e-04\n",
            "It 01450: loss = 2.44084164e-04 loss_pde = 1.44641919e-04\n",
            "It 01500: loss = 2.38726643e-04 loss_pde = 1.39284151e-04\n",
            "It 01550: loss = 2.33573985e-04 loss_pde = 1.34131187e-04\n",
            "It 01600: loss = 2.28619814e-04 loss_pde = 1.29176566e-04\n",
            "It 01650: loss = 2.23857103e-04 loss_pde = 1.24413622e-04\n",
            "It 01700: loss = 2.19279522e-04 loss_pde = 1.19835538e-04\n",
            "It 01750: loss = 2.14880813e-04 loss_pde = 1.15436502e-04\n",
            "It 01800: loss = 2.10653205e-04 loss_pde = 1.11208588e-04\n",
            "It 01850: loss = 2.06590834e-04 loss_pde = 1.07145854e-04\n",
            "It 01900: loss = 2.02686904e-04 loss_pde = 1.03241458e-04\n",
            "It 01950: loss = 1.98935100e-04 loss_pde = 9.94892907e-05\n",
            "It 02000: loss = 1.95329907e-04 loss_pde = 9.58837772e-05\n",
            "It 02050: loss = 1.91864761e-04 loss_pde = 9.24181295e-05\n",
            "It 02100: loss = 1.88533857e-04 loss_pde = 8.90868541e-05\n",
            "It 02150: loss = 1.85331737e-04 loss_pde = 8.58843705e-05\n",
            "It 02200: loss = 1.82252668e-04 loss_pde = 8.28048869e-05\n",
            "It 02250: loss = 1.79291485e-04 loss_pde = 7.98433030e-05\n",
            "It 02300: loss = 1.76443631e-04 loss_pde = 7.69951221e-05\n",
            "It 02350: loss = 1.73703738e-04 loss_pde = 7.42547563e-05\n",
            "It 02400: loss = 1.71067411e-04 loss_pde = 7.16179784e-05\n",
            "It 02450: loss = 1.68529717e-04 loss_pde = 6.90799134e-05\n",
            "It 02500: loss = 1.66086422e-04 loss_pde = 6.66362685e-05\n",
            "It 02550: loss = 1.63734250e-04 loss_pde = 6.42836021e-05\n",
            "It 02600: loss = 1.61468255e-04 loss_pde = 6.20172650e-05\n",
            "It 02650: loss = 1.59285293e-04 loss_pde = 5.98339066e-05\n",
            "It 02700: loss = 1.57181494e-04 loss_pde = 5.77297942e-05\n",
            "It 02750: loss = 1.55153670e-04 loss_pde = 5.57015010e-05\n",
            "It 02800: loss = 1.53198460e-04 loss_pde = 5.37458873e-05\n",
            "It 02850: loss = 1.51312561e-04 loss_pde = 5.18596389e-05\n",
            "It 02900: loss = 1.49493309e-04 loss_pde = 5.00399401e-05\n",
            "It 02950: loss = 1.47737301e-04 loss_pde = 4.82836622e-05\n",
            "It 03000: loss = 1.46042323e-04 loss_pde = 4.65882331e-05\n",
            "It 03050: loss = 1.45197206e-04 loss_pde = 4.57429342e-05\n",
            "It 03100: loss = 1.44373014e-04 loss_pde = 4.49185318e-05\n",
            "It 03150: loss = 1.43553218e-04 loss_pde = 4.40984513e-05\n",
            "It 03200: loss = 1.42737219e-04 loss_pde = 4.32823326e-05\n",
            "It 03250: loss = 1.41925761e-04 loss_pde = 4.24708087e-05\n",
            "It 03300: loss = 1.41119584e-04 loss_pde = 4.16644143e-05\n",
            "It 03350: loss = 1.40318385e-04 loss_pde = 4.08629930e-05\n",
            "It 03400: loss = 1.39522570e-04 loss_pde = 4.00669596e-05\n",
            "It 03450: loss = 1.38732008e-04 loss_pde = 3.92762013e-05\n",
            "It 03500: loss = 1.37947194e-04 loss_pde = 3.84912601e-05\n",
            "It 03550: loss = 1.37168725e-04 loss_pde = 3.77124634e-05\n",
            "It 03600: loss = 1.36396047e-04 loss_pde = 3.69396766e-05\n",
            "It 03650: loss = 1.35629874e-04 loss_pde = 3.61733400e-05\n",
            "It 03700: loss = 1.34870323e-04 loss_pde = 3.54135154e-05\n",
            "It 03750: loss = 1.34117174e-04 loss_pde = 3.46601482e-05\n",
            "It 03800: loss = 1.33370573e-04 loss_pde = 3.39133803e-05\n",
            "It 03850: loss = 1.32631045e-04 loss_pde = 3.31736046e-05\n",
            "It 03900: loss = 1.31898501e-04 loss_pde = 3.24408866e-05\n",
            "It 03950: loss = 1.31173263e-04 loss_pde = 3.17153135e-05\n",
            "It 04000: loss = 1.30455315e-04 loss_pde = 3.09972238e-05\n",
            "It 04050: loss = 1.29744614e-04 loss_pde = 3.02862645e-05\n",
            "It 04100: loss = 1.29041349e-04 loss_pde = 2.95827667e-05\n",
            "It 04150: loss = 1.28345695e-04 loss_pde = 2.88868250e-05\n",
            "It 04200: loss = 1.27657651e-04 loss_pde = 2.81986086e-05\n",
            "It 04250: loss = 1.26977175e-04 loss_pde = 2.75179009e-05\n",
            "It 04300: loss = 1.26304411e-04 loss_pde = 2.68449312e-05\n",
            "It 04350: loss = 1.25639373e-04 loss_pde = 2.61796886e-05\n",
            "It 04400: loss = 1.24982078e-04 loss_pde = 2.55220930e-05\n",
            "It 04450: loss = 1.24332728e-04 loss_pde = 2.48725337e-05\n",
            "It 04500: loss = 1.23691119e-04 loss_pde = 2.42307087e-05\n",
            "It 04550: loss = 1.23057398e-04 loss_pde = 2.35967636e-05\n",
            "It 04600: loss = 1.22431549e-04 loss_pde = 2.29706402e-05\n",
            "It 04650: loss = 1.21813719e-04 loss_pde = 2.23524730e-05\n",
            "It 04700: loss = 1.21203659e-04 loss_pde = 2.17421639e-05\n",
            "It 04750: loss = 1.20601457e-04 loss_pde = 2.11398165e-05\n",
            "It 04800: loss = 1.20007229e-04 loss_pde = 2.05453198e-05\n",
            "It 04850: loss = 1.19420918e-04 loss_pde = 1.99587303e-05\n",
            "It 04900: loss = 1.18842494e-04 loss_pde = 1.93800606e-05\n",
            "It 04950: loss = 1.18272059e-04 loss_pde = 1.88093818e-05\n",
            "It 05000: loss = 1.17709620e-04 loss_pde = 1.82466010e-05\n",
            "It 05050: loss = 1.17154901e-04 loss_pde = 1.76916910e-05\n",
            "It 05100: loss = 1.16608120e-04 loss_pde = 1.71445918e-05\n",
            "It 05150: loss = 1.16069248e-04 loss_pde = 1.66054415e-05\n",
            "It 05200: loss = 1.15538365e-04 loss_pde = 1.60741838e-05\n",
            "It 05250: loss = 1.15015166e-04 loss_pde = 1.55507551e-05\n",
            "It 05300: loss = 1.14499722e-04 loss_pde = 1.50351434e-05\n",
            "It 05350: loss = 1.13992384e-04 loss_pde = 1.45274580e-05\n",
            "It 05400: loss = 1.13492817e-04 loss_pde = 1.40275379e-05\n",
            "It 05450: loss = 1.13001101e-04 loss_pde = 1.35355340e-05\n",
            "It 05500: loss = 1.12517315e-04 loss_pde = 1.30513927e-05\n",
            "It 05550: loss = 1.12041380e-04 loss_pde = 1.25750867e-05\n",
            "It 05600: loss = 1.11573230e-04 loss_pde = 1.21067615e-05\n",
            "It 05650: loss = 1.11113121e-04 loss_pde = 1.16462870e-05\n",
            "It 05700: loss = 1.10660920e-04 loss_pde = 1.11937388e-05\n",
            "It 05750: loss = 1.10216715e-04 loss_pde = 1.07492197e-05\n",
            "It 05800: loss = 1.09780616e-04 loss_pde = 1.03126449e-05\n",
            "It 05850: loss = 1.09352572e-04 loss_pde = 9.88415104e-06\n",
            "It 05900: loss = 1.08932400e-04 loss_pde = 9.46373075e-06\n",
            "It 05950: loss = 1.08520544e-04 loss_pde = 9.05150955e-06\n",
            "It 06000: loss = 1.08116932e-04 loss_pde = 8.64745562e-06\n",
            "It 06050: loss = 1.07721557e-04 loss_pde = 8.25169900e-06\n",
            "It 06100: loss = 1.07334636e-04 loss_pde = 7.86428973e-06\n",
            "It 06150: loss = 1.06956206e-04 loss_pde = 7.48538150e-06\n",
            "It 06200: loss = 1.06586216e-04 loss_pde = 7.11502935e-06\n",
            "It 06250: loss = 1.06225008e-04 loss_pde = 6.75335514e-06\n",
            "It 06300: loss = 1.05872597e-04 loss_pde = 6.40045710e-06\n",
            "It 06350: loss = 1.05529041e-04 loss_pde = 6.05649620e-06\n",
            "It 06400: loss = 1.05194675e-04 loss_pde = 5.72157705e-06\n",
            "It 06450: loss = 1.04869607e-04 loss_pde = 5.39594748e-06\n",
            "It 06500: loss = 1.04553852e-04 loss_pde = 5.07967161e-06\n",
            "It 06550: loss = 1.04247600e-04 loss_pde = 4.77296862e-06\n",
            "It 06600: loss = 1.03951294e-04 loss_pde = 4.47599723e-06\n",
            "It 06650: loss = 1.03664730e-04 loss_pde = 4.18898435e-06\n",
            "It 06700: loss = 1.03388476e-04 loss_pde = 3.91210460e-06\n",
            "It 06750: loss = 1.03122497e-04 loss_pde = 3.64554603e-06\n",
            "It 06800: loss = 1.02867125e-04 loss_pde = 3.38952532e-06\n",
            "It 06850: loss = 1.02622478e-04 loss_pde = 3.14423846e-06\n",
            "It 06900: loss = 1.02388723e-04 loss_pde = 2.90990556e-06\n",
            "It 06950: loss = 1.02166028e-04 loss_pde = 2.68659937e-06\n",
            "It 07000: loss = 1.01954654e-04 loss_pde = 2.47460616e-06\n",
            "It 07050: loss = 1.01754587e-04 loss_pde = 2.27400142e-06\n",
            "It 07100: loss = 1.01566220e-04 loss_pde = 2.08488018e-06\n",
            "It 07150: loss = 1.01389291e-04 loss_pde = 1.90732453e-06\n",
            "It 07200: loss = 1.01223966e-04 loss_pde = 1.74140018e-06\n",
            "It 07250: loss = 1.01070131e-04 loss_pde = 1.58695309e-06\n",
            "It 07300: loss = 1.00927886e-04 loss_pde = 1.44401838e-06\n",
            "It 07350: loss = 1.00796875e-04 loss_pde = 1.31242155e-06\n",
            "It 07400: loss = 1.00677025e-04 loss_pde = 1.19191327e-06\n",
            "It 07450: loss = 1.00569545e-04 loss_pde = 1.08106371e-06\n",
            "It 07500: loss = 1.00479519e-04 loss_pde = 9.81553512e-07\n",
            "It 07550: loss = 1.00382793e-04 loss_pde = 8.95804874e-07\n",
            "It 07600: loss = 1.00304671e-04 loss_pde = 8.17410694e-07\n",
            "It 07650: loss = 1.00624238e-04 loss_pde = 7.52323558e-07\n",
            "It 07700: loss = 1.00177531e-04 loss_pde = 6.88527678e-07\n",
            "It 07750: loss = 1.00122059e-04 loss_pde = 6.33201182e-07\n",
            "It 07800: loss = 1.00076373e-04 loss_pde = 5.86176554e-07\n",
            "It 07850: loss = 1.00047888e-04 loss_pde = 5.44113504e-07\n",
            "It 07900: loss = 1.00002930e-04 loss_pde = 5.11981852e-07\n",
            "It 07950: loss = 9.99737895e-05 loss_pde = 4.83374833e-07\n",
            "It 08000: loss = 1.00394798e-04 loss_pde = 5.11286487e-07\n",
            "It 08050: loss = 9.99291806e-05 loss_pde = 4.38038256e-07\n",
            "It 08100: loss = 9.99121912e-05 loss_pde = 4.20731283e-07\n",
            "It 08150: loss = 9.98980031e-05 loss_pde = 4.06368628e-07\n",
            "It 08200: loss = 9.99927579e-05 loss_pde = 4.14135798e-07\n",
            "It 08250: loss = 9.98826144e-05 loss_pde = 3.87893863e-07\n",
            "It 08300: loss = 9.98692631e-05 loss_pde = 3.77033587e-07\n",
            "It 08350: loss = 9.98629330e-05 loss_pde = 3.70352666e-07\n",
            "It 08400: loss = 1.00626494e-04 loss_pde = 4.00778276e-07\n",
            "It 08450: loss = 9.98581454e-05 loss_pde = 3.63477426e-07\n",
            "It 08500: loss = 9.98502001e-05 loss_pde = 3.57243181e-07\n",
            "It 08550: loss = 9.98473552e-05 loss_pde = 3.54176535e-07\n",
            "It 08600: loss = 9.98718169e-05 loss_pde = 3.48238274e-07\n",
            "It 08650: loss = 9.98464893e-05 loss_pde = 3.52201283e-07\n",
            "It 08700: loss = 9.98413525e-05 loss_pde = 3.47895849e-07\n",
            "It 08750: loss = 9.98397882e-05 loss_pde = 3.46357723e-07\n",
            "It 08800: loss = 9.98384785e-05 loss_pde = 3.44984329e-07\n",
            "It 08850: loss = 1.01062476e-04 loss_pde = 4.30784866e-07\n",
            "It 08900: loss = 9.98410251e-05 loss_pde = 3.45802334e-07\n",
            "It 08950: loss = 9.98352480e-05 loss_pde = 3.41691674e-07\n",
            "It 09000: loss = 9.98341347e-05 loss_pde = 3.40451948e-07\n",
            "It 09050: loss = 9.98331598e-05 loss_pde = 3.39484416e-07\n",
            "It 09100: loss = 9.99308249e-05 loss_pde = 3.37026705e-07\n",
            "It 09150: loss = 9.98410324e-05 loss_pde = 3.42582382e-07\n",
            "It 09200: loss = 9.98304531e-05 loss_pde = 3.36095979e-07\n",
            "It 09250: loss = 9.98293399e-05 loss_pde = 3.35529307e-07\n",
            "It 09300: loss = 9.98284158e-05 loss_pde = 3.34805634e-07\n",
            "It 09350: loss = 1.00132696e-04 loss_pde = 3.95107719e-07\n",
            "It 09400: loss = 9.98266987e-05 loss_pde = 3.32156020e-07\n",
            "It 09450: loss = 9.98254327e-05 loss_pde = 3.31602024e-07\n",
            "It 09500: loss = 9.98244286e-05 loss_pde = 3.30789618e-07\n",
            "It 09550: loss = 1.00529513e-04 loss_pde = 3.92528591e-07\n",
            "It 09600: loss = 9.98281175e-05 loss_pde = 3.32787096e-07\n",
            "It 09650: loss = 9.98215546e-05 loss_pde = 3.27952620e-07\n",
            "It 09700: loss = 9.98204268e-05 loss_pde = 3.26788410e-07\n",
            "It 09750: loss = 9.98194737e-05 loss_pde = 3.25707816e-07\n",
            "It 09800: loss = 1.02294041e-04 loss_pde = 6.32972160e-07\n",
            "It 09850: loss = 9.98228497e-05 loss_pde = 3.27798034e-07\n",
            "It 09900: loss = 9.98162141e-05 loss_pde = 3.22534731e-07\n",
            "It 09950: loss = 9.98151663e-05 loss_pde = 3.21603522e-07\n",
            "It 10000: loss = 9.98142132e-05 loss_pde = 3.20402847e-07\n",
            "It 10050: loss = 9.98140094e-05 loss_pde = 3.20273841e-07\n",
            "It 10100: loss = 9.98136820e-05 loss_pde = 3.20057609e-07\n",
            "It 10150: loss = 9.98134710e-05 loss_pde = 3.19821481e-07\n",
            "It 10200: loss = 9.98131873e-05 loss_pde = 3.19589901e-07\n",
            "It 10250: loss = 9.98129472e-05 loss_pde = 3.19352779e-07\n",
            "It 10300: loss = 9.98128016e-05 loss_pde = 3.19113440e-07\n",
            "It 10350: loss = 9.98124742e-05 loss_pde = 3.18856166e-07\n",
            "It 10400: loss = 9.98121468e-05 loss_pde = 3.18598183e-07\n",
            "It 10450: loss = 9.98119649e-05 loss_pde = 3.18323231e-07\n",
            "It 10500: loss = 9.98116811e-05 loss_pde = 3.18072779e-07\n",
            "It 10550: loss = 9.98113683e-05 loss_pde = 3.17785464e-07\n",
            "It 10600: loss = 9.98110991e-05 loss_pde = 3.17506078e-07\n",
            "It 10650: loss = 9.98107644e-05 loss_pde = 3.17210436e-07\n",
            "It 10700: loss = 9.98104952e-05 loss_pde = 3.16915816e-07\n",
            "It 10750: loss = 9.98102332e-05 loss_pde = 3.16610567e-07\n",
            "It 10800: loss = 9.98099349e-05 loss_pde = 3.16297871e-07\n",
            "It 10850: loss = 9.98096148e-05 loss_pde = 3.15985517e-07\n",
            "It 10900: loss = 9.98093456e-05 loss_pde = 3.15656933e-07\n",
            "It 10950: loss = 9.98090400e-05 loss_pde = 3.15330112e-07\n",
            "It 11000: loss = 9.98086398e-05 loss_pde = 3.14990274e-07\n",
            "It 11050: loss = 9.98082542e-05 loss_pde = 3.14638328e-07\n",
            "It 11100: loss = 9.98078394e-05 loss_pde = 3.14295562e-07\n",
            "It 11150: loss = 9.98075266e-05 loss_pde = 3.13921646e-07\n",
            "It 11200: loss = 9.98072355e-05 loss_pde = 3.13550487e-07\n",
            "It 11250: loss = 9.98067917e-05 loss_pde = 3.13181545e-07\n",
            "It 11300: loss = 9.98063988e-05 loss_pde = 3.12796857e-07\n",
            "It 11350: loss = 9.98059259e-05 loss_pde = 3.12407394e-07\n",
            "It 11400: loss = 9.98055111e-05 loss_pde = 3.11973167e-07\n",
            "It 11450: loss = 9.98052274e-05 loss_pde = 3.11580493e-07\n",
            "It 11500: loss = 9.98047035e-05 loss_pde = 3.11158857e-07\n",
            "It 11550: loss = 9.98042669e-05 loss_pde = 3.10718519e-07\n",
            "It 11600: loss = 9.98038740e-05 loss_pde = 3.10274004e-07\n",
            "It 11650: loss = 9.98033356e-05 loss_pde = 3.09822980e-07\n",
            "It 11700: loss = 9.98028409e-05 loss_pde = 3.09363429e-07\n",
            "It 11750: loss = 9.98024479e-05 loss_pde = 3.08868238e-07\n",
            "It 11800: loss = 9.98019168e-05 loss_pde = 3.08414343e-07\n",
            "It 11850: loss = 9.98013929e-05 loss_pde = 3.07908863e-07\n",
            "It 11900: loss = 9.98008691e-05 loss_pde = 3.07402956e-07\n",
            "It 11950: loss = 9.98003306e-05 loss_pde = 3.06897505e-07\n",
            "It 12000: loss = 9.97998723e-05 loss_pde = 3.06379832e-07\n",
            "It 12050: loss = 9.97991956e-05 loss_pde = 3.05825154e-07\n",
            "It 12100: loss = 9.97986353e-05 loss_pde = 3.05286221e-07\n",
            "It 12150: loss = 9.97981988e-05 loss_pde = 3.04718526e-07\n",
            "It 12200: loss = 9.97976094e-05 loss_pde = 3.04155577e-07\n",
            "It 12250: loss = 9.97970856e-05 loss_pde = 3.03560057e-07\n",
            "It 12300: loss = 9.97964598e-05 loss_pde = 3.02962491e-07\n",
            "It 12350: loss = 9.97958632e-05 loss_pde = 3.02359410e-07\n",
            "It 12400: loss = 9.97951211e-05 loss_pde = 3.01727226e-07\n",
            "It 12450: loss = 9.97945390e-05 loss_pde = 3.01104137e-07\n",
            "It 12500: loss = 9.97938841e-05 loss_pde = 3.00454218e-07\n",
            "It 12550: loss = 9.97932657e-05 loss_pde = 2.99779060e-07\n",
            "It 12600: loss = 9.97925454e-05 loss_pde = 2.99134484e-07\n",
            "It 12650: loss = 9.97918614e-05 loss_pde = 2.98427523e-07\n",
            "It 12700: loss = 9.97911266e-05 loss_pde = 2.97741707e-07\n",
            "It 12750: loss = 9.97903408e-05 loss_pde = 2.97008938e-07\n",
            "It 12800: loss = 9.97896859e-05 loss_pde = 2.96275090e-07\n",
            "It 12850: loss = 9.97889074e-05 loss_pde = 2.95555253e-07\n",
            "It 12900: loss = 9.97881580e-05 loss_pde = 2.94797104e-07\n",
            "It 12950: loss = 9.97874449e-05 loss_pde = 2.94027387e-07\n",
            "It 13000: loss = 9.97865936e-05 loss_pde = 2.93255908e-07\n",
            "It 13050: loss = 9.97857860e-05 loss_pde = 2.92422357e-07\n",
            "It 13100: loss = 9.97849565e-05 loss_pde = 2.91611968e-07\n",
            "It 13150: loss = 9.97841416e-05 loss_pde = 2.90772817e-07\n",
            "It 13200: loss = 9.97832321e-05 loss_pde = 2.89862669e-07\n",
            "It 13250: loss = 9.98177129e-05 loss_pde = 2.86426797e-07\n",
            "It 13300: loss = 9.97817187e-05 loss_pde = 2.88778295e-07\n",
            "It 13350: loss = 9.97806637e-05 loss_pde = 2.87430254e-07\n",
            "It 13400: loss = 9.97797324e-05 loss_pde = 2.86556030e-07\n",
            "It 13450: loss = 9.97930911e-05 loss_pde = 2.93257415e-07\n",
            "It 13500: loss = 9.97783209e-05 loss_pde = 2.84010810e-07\n",
            "It 13550: loss = 9.97771058e-05 loss_pde = 2.83885214e-07\n",
            "It 13600: loss = 9.97767929e-05 loss_pde = 2.82018931e-07\n",
            "It 13650: loss = 9.97774623e-05 loss_pde = 2.80615922e-07\n",
            "It 13700: loss = 9.97743118e-05 loss_pde = 2.81353067e-07\n",
            "It 13750: loss = 9.97737443e-05 loss_pde = 2.81083459e-07\n",
            "It 13800: loss = 9.97754396e-05 loss_pde = 2.81975844e-07\n",
            "It 13850: loss = 9.97717725e-05 loss_pde = 2.78653175e-07\n",
            "It 13900: loss = 9.97708194e-05 loss_pde = 2.77715486e-07\n",
            "It 13950: loss = 9.97884490e-05 loss_pde = 2.85324205e-07\n",
            "It 14000: loss = 9.97690877e-05 loss_pde = 2.75661677e-07\n",
            "It 14050: loss = 9.97680618e-05 loss_pde = 2.74921376e-07\n",
            "It 14100: loss = 9.97681855e-05 loss_pde = 2.73390555e-07\n",
            "It 14150: loss = 9.97665775e-05 loss_pde = 2.74337424e-07\n",
            "It 14200: loss = 9.97653915e-05 loss_pde = 2.72102966e-07\n",
            "It 14250: loss = 9.97670795e-05 loss_pde = 2.70423101e-07\n",
            "It 14300: loss = 9.97665193e-05 loss_pde = 2.74058522e-07\n",
            "It 14350: loss = 9.97637981e-05 loss_pde = 2.71173462e-07\n",
            "It 14400: loss = 9.97620591e-05 loss_pde = 2.68419058e-07\n",
            "It 14450: loss = 9.97617535e-05 loss_pde = 2.69072984e-07\n",
            "It 14500: loss = 9.97609895e-05 loss_pde = 2.66344387e-07\n",
            "It 14550: loss = 9.97592797e-05 loss_pde = 2.65827993e-07\n",
            "It 14600: loss = 9.97596871e-05 loss_pde = 2.64392867e-07\n",
            "It 14650: loss = 9.97750903e-05 loss_pde = 2.62995968e-07\n",
            "It 14700: loss = 9.97579191e-05 loss_pde = 2.64696951e-07\n",
            "It 14750: loss = 9.97557945e-05 loss_pde = 2.62855423e-07\n",
            "It 14800: loss = 9.98121541e-05 loss_pde = 2.69468302e-07\n",
            "It 14850: loss = 9.97543248e-05 loss_pde = 2.60606072e-07\n",
            "It 14900: loss = 9.97532406e-05 loss_pde = 2.60166615e-07\n",
            "It 14950: loss = 9.97650495e-05 loss_pde = 2.68130492e-07\n",
            "It 15000: loss = 9.97554525e-05 loss_pde = 2.62241997e-07\n",
            "It 15050: loss = 9.97521129e-05 loss_pde = 2.59565525e-07\n",
            "It 15100: loss = 9.97497991e-05 loss_pde = 2.56897209e-07\n",
            "It 15150: loss = 9.98865435e-05 loss_pde = 3.04087592e-07\n",
            "It 15200: loss = 9.97486204e-05 loss_pde = 2.55831793e-07\n",
            "It 15250: loss = 9.97474126e-05 loss_pde = 2.54397293e-07\n",
            "It 15300: loss = 9.97472889e-05 loss_pde = 2.53312464e-07\n",
            "It 15350: loss = 9.97471361e-05 loss_pde = 2.52648277e-07\n",
            "It 15400: loss = 9.97615425e-05 loss_pde = 2.51346364e-07\n",
            "It 15450: loss = 9.97442694e-05 loss_pde = 2.51463916e-07\n",
            "It 15500: loss = 9.98323158e-05 loss_pde = 2.83972923e-07\n",
            "It 15550: loss = 9.97430252e-05 loss_pde = 2.50074208e-07\n",
            "It 15600: loss = 9.97452225e-05 loss_pde = 2.46108698e-07\n",
            "It 15650: loss = 9.97417737e-05 loss_pde = 2.49828304e-07\n",
            "It 15700: loss = 9.97402676e-05 loss_pde = 2.47085097e-07\n",
            "It 15750: loss = 9.97404422e-05 loss_pde = 2.47447360e-07\n",
            "It 15800: loss = 9.97383904e-05 loss_pde = 2.45701813e-07\n",
            "It 15850: loss = 9.98127289e-05 loss_pde = 2.50146087e-07\n",
            "It 15900: loss = 9.97374300e-05 loss_pde = 2.45304136e-07\n",
            "It 15950: loss = 9.97361785e-05 loss_pde = 2.43243562e-07\n",
            "It 16000: loss = 9.97389798e-05 loss_pde = 2.46752819e-07\n",
            "It 16050: loss = 9.97345560e-05 loss_pde = 2.41489118e-07\n",
            "It 16100: loss = 9.97395691e-05 loss_pde = 2.39454579e-07\n",
            "It 16150: loss = 9.97329771e-05 loss_pde = 2.39967051e-07\n",
            "It 16200: loss = 9.97343013e-05 loss_pde = 2.40260448e-07\n",
            "It 16250: loss = 9.97320822e-05 loss_pde = 2.37490426e-07\n",
            "It 16300: loss = 9.97312018e-05 loss_pde = 2.36835561e-07\n",
            "It 16350: loss = 9.97314710e-05 loss_pde = 2.37665603e-07\n",
            "It 16400: loss = 9.97292154e-05 loss_pde = 2.36351326e-07\n",
            "It 16450: loss = 9.97289826e-05 loss_pde = 2.36600982e-07\n",
            "It 16500: loss = 9.97316965e-05 loss_pde = 2.32706171e-07\n",
            "It 16550: loss = 9.97269235e-05 loss_pde = 2.34270360e-07\n",
            "It 16600: loss = 9.97262250e-05 loss_pde = 2.33598243e-07\n",
            "It 16650: loss = 9.97280440e-05 loss_pde = 2.35534856e-07\n",
            "It 16700: loss = 9.97266689e-05 loss_pde = 2.32778518e-07\n",
            "It 16750: loss = 9.97241586e-05 loss_pde = 2.31544490e-07\n",
            "It 16800: loss = 9.97235256e-05 loss_pde = 2.30771789e-07\n",
            "It 16850: loss = 9.97227107e-05 loss_pde = 2.29784263e-07\n",
            "It 16900: loss = 9.97256793e-05 loss_pde = 2.29471325e-07\n",
            "It 16950: loss = 9.97212483e-05 loss_pde = 2.29079291e-07\n",
            "It 17000: loss = 9.97224561e-05 loss_pde = 2.30597564e-07\n",
            "It 17050: loss = 9.97199022e-05 loss_pde = 2.27569686e-07\n",
            "It 17100: loss = 9.97404859e-05 loss_pde = 2.32497783e-07\n",
            "It 17150: loss = 9.97189854e-05 loss_pde = 2.25316299e-07\n",
            "It 17200: loss = 9.97179668e-05 loss_pde = 2.24444562e-07\n",
            "It 17250: loss = 9.97186435e-05 loss_pde = 2.27093082e-07\n",
            "It 17300: loss = 9.97164898e-05 loss_pde = 2.23800171e-07\n",
            "It 17350: loss = 9.97207972e-05 loss_pde = 2.28209998e-07\n",
            "It 17400: loss = 9.97152238e-05 loss_pde = 2.22197784e-07\n",
            "It 17450: loss = 9.97144161e-05 loss_pde = 2.21949421e-07\n",
            "It 17500: loss = 9.97505776e-05 loss_pde = 2.21204616e-07\n",
            "It 17550: loss = 9.97132374e-05 loss_pde = 2.20435098e-07\n",
            "It 17600: loss = 9.97124880e-05 loss_pde = 2.19975874e-07\n",
            "It 17650: loss = 9.97117895e-05 loss_pde = 2.19355499e-07\n",
            "It 17700: loss = 9.97113093e-05 loss_pde = 2.18842118e-07\n",
            "It 17750: loss = 9.97124735e-05 loss_pde = 2.17876831e-07\n",
            "It 17800: loss = 9.97098177e-05 loss_pde = 2.17459444e-07\n",
            "It 17850: loss = 9.97135285e-05 loss_pde = 2.14058417e-07\n",
            "It 17900: loss = 9.97088719e-05 loss_pde = 2.15590930e-07\n",
            "It 17950: loss = 9.97081079e-05 loss_pde = 2.15407240e-07\n",
            "It 18000: loss = 9.97272218e-05 loss_pde = 2.21098162e-07\n",
            "It 18050: loss = 9.97076495e-05 loss_pde = 2.13427583e-07\n",
            "It 18100: loss = 9.97061870e-05 loss_pde = 2.14171365e-07\n",
            "It 18150: loss = 9.97100287e-05 loss_pde = 2.16729148e-07\n",
            "It 18200: loss = 9.97049356e-05 loss_pde = 2.12767816e-07\n",
            "It 18250: loss = 9.97046809e-05 loss_pde = 2.11380609e-07\n",
            "It 18300: loss = 9.97077223e-05 loss_pde = 2.13518035e-07\n",
            "It 18350: loss = 9.97031166e-05 loss_pde = 2.10513591e-07\n",
            "It 18400: loss = 9.97132447e-05 loss_pde = 2.06467234e-07\n",
            "It 18450: loss = 9.97018578e-05 loss_pde = 2.09459699e-07\n",
            "It 18500: loss = 9.97012903e-05 loss_pde = 2.09108947e-07\n",
            "It 18550: loss = 9.97448806e-05 loss_pde = 2.28058269e-07\n",
            "It 18600: loss = 9.97003081e-05 loss_pde = 2.07470023e-07\n",
            "It 18650: loss = 9.97018578e-05 loss_pde = 2.10158106e-07\n",
            "It 18700: loss = 9.96999588e-05 loss_pde = 2.08550887e-07\n",
            "It 18750: loss = 9.96985982e-05 loss_pde = 2.06346883e-07\n",
            "It 18800: loss = 9.97177049e-05 loss_pde = 2.06856896e-07\n",
            "It 18850: loss = 9.97284878e-05 loss_pde = 2.07812576e-07\n",
            "It 18900: loss = 9.96973540e-05 loss_pde = 2.03800440e-07\n",
            "It 18950: loss = 9.96967356e-05 loss_pde = 2.03224772e-07\n",
            "It 19000: loss = 9.96990566e-05 loss_pde = 2.01985316e-07\n",
            "It 19050: loss = 9.96951203e-05 loss_pde = 2.03062925e-07\n",
            "It 19100: loss = 9.96988601e-05 loss_pde = 2.02405246e-07\n",
            "It 19150: loss = 9.96940289e-05 loss_pde = 2.02261305e-07\n",
            "It 19200: loss = 9.96981325e-05 loss_pde = 1.98731783e-07\n",
            "It 19250: loss = 9.96930612e-05 loss_pde = 2.00572501e-07\n",
            "It 19300: loss = 9.96925737e-05 loss_pde = 1.99960652e-07\n",
            "It 19350: loss = 9.96977542e-05 loss_pde = 2.02129414e-07\n",
            "It 19400: loss = 9.96914678e-05 loss_pde = 1.99689296e-07\n",
            "It 19450: loss = 9.96924791e-05 loss_pde = 1.96960443e-07\n",
            "It 19500: loss = 9.96902309e-05 loss_pde = 1.98261816e-07\n",
            "It 19550: loss = 9.97230527e-05 loss_pde = 2.04006156e-07\n",
            "It 19600: loss = 9.96899980e-05 loss_pde = 1.97865717e-07\n",
            "It 19650: loss = 9.97605457e-05 loss_pde = 1.95832541e-07\n",
            "It 19700: loss = 9.96885137e-05 loss_pde = 1.95453964e-07\n",
            "It 19750: loss = 9.96879025e-05 loss_pde = 1.95843924e-07\n",
            "It 19800: loss = 9.96873132e-05 loss_pde = 1.95726500e-07\n",
            "It 19850: loss = 9.96866656e-05 loss_pde = 1.94293591e-07\n",
            "It 19900: loss = 9.96904055e-05 loss_pde = 1.98494234e-07\n",
            "It 19950: loss = 9.96856834e-05 loss_pde = 1.93903944e-07\n",
            "It 20000: loss = 9.97594543e-05 loss_pde = 2.21904969e-07\n",
            "\n",
            "Computation time: 23.696370840072632 seconds\n"
          ]
        }
      ],
      "source": [
        "# Number of training epochs\n",
        "N = 20000\n",
        "loss_history = []\n",
        "loss_pde_history = []\n",
        "#alpha_list = []\n",
        "\n",
        "from time import time\n",
        "\n",
        "# Start timer\n",
        "t0 = time()\n",
        "\n",
        "for i in range(N+1):\n",
        "\n",
        "    loss, loss_pde = train_step()\n",
        "\n",
        "    # Append current loss to hist\n",
        "    loss_history.append(loss.numpy())\n",
        "    loss_pde_history.append(loss_pde.numpy())\n",
        "\n",
        "    #alpha = model.alpha.numpy()\n",
        "    #alpha_list.append(alpha)\n",
        "\n",
        "    # Output current loss after 50 iterates\n",
        "    if i%50 == 0:\n",
        "        print('It {:05d}: loss = {:10.8e} loss_pde = {:10.8e}'.format(i,loss,loss_pde))\n",
        "        #print('It {:05d}: loss = {:10.8e} loss_pde = {:10.8e} alpha = {:10.8e}'.format(i,loss,loss_pde,alpha))\n",
        "\n",
        "#alpha_rel_error = np.abs((model.alpha.numpy()-alpha_test)/alpha_test)\n",
        "#print('Relative error of alpha ', alpha_rel_error)\n",
        "\n",
        "# Print computation time\n",
        "print('\\nComputation time: {} seconds'.format(time()-t0))"
      ]
    },
    {
      "cell_type": "code",
      "execution_count": null,
      "metadata": {
        "colab": {
          "base_uri": "https://localhost:8080/",
          "height": 416
        },
        "id": "fQh3aJXKE246",
        "outputId": "e52c941e-616b-45a5-e801-cb2ae6f8d72c"
      },
      "outputs": [
        {
          "output_type": "execute_result",
          "data": {
            "text/plain": [
              "Text(0, 0.5, '$\\\\phi_{n_{epoch}}$')"
            ]
          },
          "metadata": {},
          "execution_count": 16
        },
        {
          "output_type": "display_data",
          "data": {
            "text/plain": [
              "<Figure size 648x432 with 1 Axes>"
            ],
            "image/png": "[encoded data removed]"
          },
          "metadata": {
            "needs_background": "light"
          }
        }
      ],
      "source": [
        "fig = plt.figure(figsize=(9,6))\n",
        "ax1 = fig.add_subplot(111)\n",
        "ax1.semilogy(range(len(loss_history)), loss_history,'k-')\n",
        "ax1.semilogy(range(len(loss_history)), loss_pde_history,'b-')\n",
        "ax1.set_xlabel('$n_{epoch}$', fontsize = 18)\n",
        "ax1.set_ylabel('$\\\\phi_{n_{epoch}}$', fontsize = 18)\n",
        "\n",
        "#ax2 = ax1.twinx()  # instantiate the second axis sharing the same x-axis\n",
        "#color = 'tab:red'\n",
        "#ax2.tick_params(axis='y', labelcolor=color)\n",
        "#ax2.plot(range(len(loss_history)), alpha_list,'-',color=color)\n",
        "#ax2.set_ylabel('$\\\\alpha^{n_{epoch}}$', color=color, fontsize = 18)"
      ]
    },
    {
      "cell_type": "code",
      "source": [
        "tf.random.set_seed(10)\n",
        "x_test = tf.random.uniform((50,1), lb, ub, dtype=DTYPE)"
      ],
      "metadata": {
        "id": "y98Vyl5H7h50"
      },
      "execution_count": null,
      "outputs": []
    },
    {
      "cell_type": "code",
      "source": [
        "u_modeled = model(x_test).numpy()\n",
        "u_exact = heat_eq_exact_solution(x_test, alpha_test).numpy()\n",
        "error = np.abs((u_modeled - u_exact)/u_exact)"
      ],
      "metadata": {
        "id": "6hxeVdad7xf0"
      },
      "execution_count": null,
      "outputs": []
    },
    {
      "cell_type": "code",
      "source": [
        "for i in range(len(x_test)):\n",
        "    print(x_test[i].numpy(),u_modeled[i],u_exact[i],error[i])"
      ],
      "metadata": {
        "colab": {
          "base_uri": "https://localhost:8080/"
        },
        "id": "yp5vTi9G8f-k",
        "outputId": "2c88f326-a0e4-4fe3-c2e5-16dc59eefdb7"
      },
      "execution_count": null,
      "outputs": [
        {
          "output_type": "stream",
          "name": "stdout",
          "text": [
            "[0.644151] [-0.03381906] [-0.03438308] [0.01640379]\n",
            "[0.8082472] [-0.0226111] [-0.02324755] [0.0273772]\n",
            "[0.8976548] [-0.01310641] [-0.0137806] [0.04892359]\n",
            "[0.6368902] [-0.03412865] [-0.03468916] [0.0161581]\n",
            "[0.6270969] [-0.0345211] [-0.03507696] [0.01584681]\n",
            "[0.9936013] [-0.00023468] [-0.00095366] [0.75391823]\n",
            "[0.02359486] [-0.00316377] [-0.00345572] [0.08448345]\n",
            "[0.03668392] [-0.00500369] [-0.00530073] [0.05603768]\n",
            "[0.5860578] [-0.03585283] [-0.03638911] [0.01473722]\n",
            "[0.5740315] [-0.03614736] [-0.0366779] [0.01446497]\n",
            "[0.09047401] [-0.01202488] [-0.01234327] [0.02579465]\n",
            "[0.5755553] [-0.03611246] [-0.03664371] [0.01449778]\n",
            "[0.25272822] [-0.02793784] [-0.0283285] [0.01379029]\n",
            "[0.11045039] [-0.01441099] [-0.01473766] [0.02216615]\n",
            "[0.61225283] [-0.03506115] [-0.0356099] [0.01540994]\n",
            "[0.1290685] [-0.0165268] [-0.01686147] [0.01984814]\n",
            "[0.89660144] [-0.01323242] [-0.0139061] [0.04844425]\n",
            "[0.06479812] [-0.00878185] [-0.0090899] [0.03388914]\n",
            "[0.8622047] [-0.01716238] [-0.01782117] [0.03696648]\n",
            "[0.82242084] [-0.02126437] [-0.02190672] [0.02932196]\n",
            "[0.4016037] [-0.03559312] [-0.03604773] [0.01261119]\n",
            "[0.7659943] [-0.02626809] [-0.02688706] [0.02302077]\n",
            "[0.4539342] [-0.03670524] [-0.03718169] [0.01281419]\n",
            "[0.32376182] [-0.03241901] [-0.03284102] [0.01284993]\n",
            "[0.4617684] [-0.03680089] [-0.03728075] [0.01287158]\n",
            "[0.32858098] [-0.03266832] [-0.03309233] [0.01281279]\n",
            "[0.8104389] [-0.02240685] [-0.02304416] [0.02765602]\n",
            "[0.1609515] [-0.01990815] [-0.02025692] [0.01721747]\n",
            "[0.07981062] [-0.01070207] [-0.01101613] [0.02850907]\n",
            "[0.5934839] [-0.03564933] [-0.03618911] [0.01491563]\n",
            "[0.6243702] [-0.03462517] [-0.03517981] [0.01576575]\n",
            "[0.9112947] [-0.01144519] [-0.0121255] [0.05610539]\n",
            "[0.88744843] [-0.01431291] [-0.01498256] [0.04469529]\n",
            "[0.9568223] [-0.00549537] [-0.00619701] [0.11322266]\n",
            "[0.436625] [-0.03642833] [-0.03689754] [0.01271661]\n",
            "[0.9997524] [0.00068468] [-3.7130463e-05] [19.439806]\n",
            "[0.24064243] [-0.02702489] [-0.02741005] [0.0140515]\n",
            "[0.8281152] [-0.02070642] [-0.02135106] [0.03019263]\n",
            "[0.54077435] [-0.03673568] [-0.03725062] [0.01382355]\n",
            "[0.8436167] [-0.01913814] [-0.01978913] [0.03289628]\n",
            "[0.33806038] [-0.03313823] [-0.03356633] [0.01275394]\n",
            "[0.9431902] [-0.00734219] [-0.00803737] [0.08649296]\n",
            "[0.08632314] [-0.01151413] [-0.01183072] [0.02676016]\n",
            "[0.68907607] [-0.03155236] [-0.03213754] [0.01820849]\n",
            "[0.53072953] [-0.03684799] [-0.03735835] [0.01366123]\n",
            "[0.9125186] [-0.01129332] [-0.01197426] [0.05686677]\n",
            "[0.06304038] [-0.00855261] [-0.00885994] [0.03468789]\n",
            "[0.95265174] [-0.00606629] [-0.00676596] [0.10341003]\n",
            "[0.8152896] [-0.02194948] [-0.02258887] [0.02830529]\n",
            "[0.57640743] [-0.03609256] [-0.03662429] [0.01451829]\n"
          ]
        }
      ]
    },
    {
      "cell_type": "code",
      "source": [
        "fig2 = plt.figure(figsize=(9,6))\n",
        "ax1 = fig2.add_subplot(111)\n",
        "ax1.scatter(x_test.numpy(), u_modeled, c='b', marker='X',s=200, alpha=0.5)\n",
        "ax1.scatter(x_test.numpy(), u_exact, c='r', marker='.', s=100, alpha=1.0)\n",
        "ax1.set_xlabel('$x$', fontsize = 18)\n",
        "ax1.set_ylabel('$u$', fontsize = 18)"
      ],
      "metadata": {
        "colab": {
          "base_uri": "https://localhost:8080/",
          "height": 413
        },
        "id": "I3Q2uQKHH-rI",
        "outputId": "8cbb4565-8af1-477f-f5a4-62e4b6a41090"
      },
      "execution_count": null,
      "outputs": [
        {
          "output_type": "execute_result",
          "data": {
            "text/plain": [
              "Text(0, 0.5, '$u$')"
            ]
          },
          "metadata": {},
          "execution_count": 20
        },
        {
          "output_type": "display_data",
          "data": {
            "text/plain": [
              "<Figure size 648x432 with 1 Axes>"
            ],
            "image/png": "[encoded data removed]"
          },
          "metadata": {
            "needs_background": "light"
          }
        }
      ]
    }
  ],
  "metadata": {
    "interpreter": {
      "hash": "916dbcbb3f70747c44a77c7bcd40155683ae19c65e1c03b4aa3499c5328201f1"
    },
    "kernelspec": {
      "display_name": "Python 3.8.10 64-bit",
      "language": "python",
      "name": "python3"
    },
    "language_info": {
      "codemirror_mode": {
        "name": "ipython",
        "version": 3
      },
      "file_extension": ".py",
      "mimetype": "text/x-python",
      "name": "python",
      "nbconvert_exporter": "python",
      "pygments_lexer": "ipython3",
      "version": "3.8.10"
    },
    "orig_nbformat": 4,
    "colab": {
      "name": "ODE_CSUMS2022.ipynb",
      "provenance": [],
      "collapsed_sections": []
    }
  },
  "nbformat": 4,
  "nbformat_minor": 0
}