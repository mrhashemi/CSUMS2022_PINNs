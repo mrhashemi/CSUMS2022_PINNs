{
  "cells": [
    {
      "cell_type": "markdown",
      "metadata": {
        "id": "XShk0X9jE24p"
      },
      "source": [
        "Based on the code developed by <a href=\"https://github.com/janblechschmidt/PDEsByNNs\" target=\"_parent\"> Jan Blechschmidt </a> (originally introduced by <a href=\"https://github.com/maziarraissi/PINNs\" target=\"_parent\"> Maziar Raissi </a>).\n",
        "\n",
        "<a href=\"https://colab.research.google.com/github/janblechschmidt/PDEsByNNs/blob/main/PINN_Solver.ipynb\" target=\"_parent\">\n",
        "    <img src=\"https://colab.research.google.com/assets/colab-badge.svg\" alt=\"Open In Colab\"/>\n",
        "</a>"
      ]
    },
    {
      "cell_type": "code",
      "execution_count": 1,
      "metadata": {
        "id": "8kzRCxT2E24s"
      },
      "outputs": [],
      "source": [
        "import tensorflow as tf\n",
        "import numpy as np"
      ]
    },
    {
      "cell_type": "markdown",
      "metadata": {
        "id": "xs2wxbZ3E24t"
      },
      "source": [
        "The ordinary differential equation is\n",
        "\n",
        "$\\frac{d^2 u}{dx^2} = \\alpha$,\n",
        "\n",
        "applied to the domain of $x \\in [0, 1]$,\n",
        "\n",
        "subject to boundary condition of\n",
        "\n",
        "$u(0) = u(1) = 0$.\n",
        "\n",
        "The aim is to find the solution for $\\alpha = 0.3$."
      ]
    },
    {
      "cell_type": "code",
      "execution_count": 2,
      "metadata": {
        "id": "gG948wgnE24u"
      },
      "outputs": [],
      "source": [
        "# Set data type\n",
        "DTYPE='float32'   # 'float64'\n",
        "tf.keras.backend.set_floatx(DTYPE)\n",
        "\n",
        "# Define boundary condition\n",
        "def fun_u_b(x):\n",
        "    n = x.shape[0]\n",
        "    return tf.zeros((n,1), dtype=DTYPE)\n",
        "\n",
        "alpha_test = 0.3\n",
        "\n",
        "def heat_eq_exact_solution(x, alpha):\n",
        "    return alpha/2.0*x*(x-1)\n",
        "\n",
        "# Define residual of the DE (we keep x, u, and u_x in the input for the generalization purpose)\n",
        "def fun_r(x, u, u_x, u_xx, alpha):\n",
        "    return alpha - u_xx"
      ]
    },
    {
      "cell_type": "code",
      "execution_count": 3,
      "metadata": {
        "id": "RIdDd9IHE24w"
      },
      "outputs": [],
      "source": [
        "# Set number of data points\n",
        "N_b = 20 # Number of data point for imposing the boundary condition (Dirichlet)\n",
        "N_r = 500 # Number of data point for minimizing the residual of the PDE\n",
        "\n",
        "# Set boundary\n",
        "xmin = 0.\n",
        "xmax = 1.\n",
        "\n",
        "# Lower bounds\n",
        "lb = tf.constant(xmin, dtype=DTYPE)\n",
        "# Upper bounds\n",
        "ub = tf.constant(xmax, dtype=DTYPE)\n",
        "\n",
        "# Set random seed for reproducible results\n",
        "tf.random.set_seed(0)"
      ]
    },
    {
      "cell_type": "code",
      "execution_count": 4,
      "metadata": {
        "id": "jfrnrfe3E24w"
      },
      "outputs": [],
      "source": [
        "# Boundary data\n",
        "X_b = lb + (ub - lb) * tf.keras.backend.random_bernoulli((N_b,1), 0.5, dtype=DTYPE)\n",
        "\n",
        "# Evaluate boundary condition at (t_b,x_b)\n",
        "u_b = fun_u_b(X_b)\n",
        "\n",
        "#print(X_b)\n",
        "#print(u_b)"
      ]
    },
    {
      "cell_type": "code",
      "execution_count": 14,
      "metadata": {
        "id": "DATxhjCxE24z"
      },
      "outputs": [],
      "source": [
        "# Draw uniformly sampled collocation points\n",
        "X_r = tf.random.uniform((N_r,1), lb, ub, dtype=DTYPE)\n",
        "\n",
        "# Collect boundary and inital data in lists\n",
        "X_data = [X_b]\n",
        "u_data = [u_b]\n",
        "\n",
        "# Copy original data\n",
        "X_param = X_data\n",
        "u_param = u_data\n",
        "\n",
        "#print(X_data)\n",
        "#print(u_data)"
      ]
    },
    {
      "cell_type": "code",
      "execution_count": 15,
      "metadata": {
        "id": "oaQVpHsmE240"
      },
      "outputs": [],
      "source": [
        "#N_d = 500   # Number of provided data points\n",
        "#noise = 0.0\n",
        "\n",
        "# Draw points with measurements randomly\n",
        "#X_d = tf.random.uniform((N_d,1), lb, ub, dtype=DTYPE)\n",
        "#u_d = heat_eq_exact_solution(X_d, alpha_test)\n",
        "#u_d += noise * tf.random.normal(u_d.shape, dtype=DTYPE)"
      ]
    },
    {
      "cell_type": "code",
      "execution_count": 16,
      "metadata": {
        "colab": {
          "base_uri": "https://localhost:8080/",
          "height": 404
        },
        "id": "VtfTk6Y0E241",
        "outputId": "066280ed-660a-415c-ae08-a9aa03326d30"
      },
      "outputs": [
        {
          "output_type": "display_data",
          "data": {
            "text/plain": [
              "<Figure size 648x432 with 1 Axes>"
            ],
            "image/png": "[encoded data removed]"
          },
          "metadata": {
            "needs_background": "light"
          }
        }
      ],
      "source": [
        "import matplotlib.pyplot as plt\n",
        "\n",
        "fig = plt.figure(figsize=(9,6))\n",
        "plt.scatter(X_b, tf.zeros((X_b.shape[0],1)), c=u_b, marker='X', vmin=-1, vmax=1)\n",
        "plt.scatter(X_r, tf.zeros((X_r.shape[0],1)), c='r', marker='.', alpha=0.1)\n",
        "#plt.scatter(X_d, tf.zeros((X_d.shape[0],1)), c=u_d, marker='X', vmin=-1, vmax=1)\n",
        "plt.xlabel('$x$')\n",
        "\n",
        "plt.title('Positions of collocation points');"
      ]
    },
    {
      "cell_type": "code",
      "execution_count": 17,
      "metadata": {
        "id": "AJOcpWgmE242"
      },
      "outputs": [],
      "source": [
        "# The exact data will be treated similar to the IC and Dirichlet BC\n",
        "#X_param.append(X_d)\n",
        "#u_param.append(u_d)"
      ]
    },
    {
      "cell_type": "code",
      "execution_count": 18,
      "metadata": {
        "id": "6ycvfHMhE243"
      },
      "outputs": [],
      "source": [
        "# Creating a class derived from Keras Model to modify it according to the needed architecture\n",
        "class PINN_NeuralNet(tf.keras.Model):\n",
        "    \"\"\" Set basic architecture of the PINN model.\"\"\"\n",
        "\n",
        "    def __init__(self, lb, ub,\n",
        "            output_dim=1,\n",
        "            num_hidden_layers=4,\n",
        "            num_neurons_per_layer=10,\n",
        "            activation='tanh',\n",
        "            kernel_initializer='glorot_normal',\n",
        "            **kwargs):\n",
        "        super().__init__(**kwargs)\n",
        "\n",
        "        self.num_hidden_layers = num_hidden_layers\n",
        "        self.output_dim = output_dim\n",
        "        self.lb = lb\n",
        "        self.ub = ub\n",
        "\n",
        "        # Define NN architecture\n",
        "        self.scale = tf.keras.layers.Lambda(\n",
        "            lambda x: 2.0*(x - lb)/(ub - lb) - 1.0)\n",
        "        self.hidden = [tf.keras.layers.Dense(num_neurons_per_layer,\n",
        "                             activation=tf.keras.activations.get(activation),\n",
        "                             kernel_initializer=kernel_initializer)\n",
        "                           for _ in range(self.num_hidden_layers)]\n",
        "        self.out = tf.keras.layers.Dense(output_dim)\n",
        "\n",
        "        # Initialize variable for unknown prameter (alpha)\n",
        "        self.alpha = alpha_test # tf.Variable(1.0, trainable=True, dtype=DTYPE) # We use the same data type for alpha (as the other variables)\n",
        "\n",
        "    def call(self, X):\n",
        "        \"\"\"Forward-pass through neural network.\"\"\"\n",
        "        Z = self.scale(X)\n",
        "        for i in range(self.num_hidden_layers):\n",
        "            Z = self.hidden[i](Z)\n",
        "        return self.out(Z)"
      ]
    },
    {
      "cell_type": "code",
      "execution_count": 19,
      "metadata": {
        "id": "rJCFCZtkE243"
      },
      "outputs": [],
      "source": [
        "def get_r(model, X_r):\n",
        "\n",
        "    # A tf.GradientTape is used to compute derivatives in TensorFlow\n",
        "    with tf.GradientTape(persistent=True) as tape:\n",
        "        x = X_r #[:, 0:1]\n",
        "\n",
        "        # Variables t and x are watched during tape. Keeping \"watch_accessed_variables=True\" (default) still we cannot can skip this step\n",
        "        # to compute derivatives\n",
        "        tape.watch(x)\n",
        "\n",
        "        # Determine residual\n",
        "        u = model(x)#tf.stack(x[:,0]))\n",
        "\n",
        "        # Compute gradient u_x within the GradientTape\n",
        "        u_x = tape.gradient(u, x) # since we also need the derivative of u_x (du_x/dx), it should be inside the tape\n",
        "\n",
        "    u_xx = tape.gradient(u_x, x) # For higher efficiency these gradients are calculated outside the Tape.\n",
        "\n",
        "    del tape\n",
        "\n",
        "    return fun_r(x, u, u_x, u_xx, model.alpha)"
      ]
    },
    {
      "cell_type": "code",
      "execution_count": 20,
      "metadata": {
        "id": "XciT4Q1IE244"
      },
      "outputs": [],
      "source": [
        "def compute_loss(model, X_r, X_data, u_data):\n",
        "\n",
        "    # Compute phi^r\n",
        "    r = get_r(model, X_r)\n",
        "    phi_r = tf.reduce_mean(tf.square(r))\n",
        "\n",
        "    # Initialize loss\n",
        "    pde_factor = 1.0  # This is used to make its dimension consistent with the loss (in case for example Dx is far from unity)\n",
        "    loss = pde_factor*phi_r\n",
        "\n",
        "    # Add phi^0 and phi^b to the loss\n",
        "    for i in range(len(X_data)):\n",
        "        u_pred = model(X_data[i])\n",
        "        loss += tf.reduce_mean(tf.square(u_data[i] - u_pred))\n",
        "\n",
        "    return loss, phi_r"
      ]
    },
    {
      "cell_type": "code",
      "execution_count": 21,
      "metadata": {
        "id": "0_Sr1GWsE244"
      },
      "outputs": [],
      "source": [
        "def get_grad(model, X_r, X_data, u_data):\n",
        "\n",
        "    with tf.GradientTape(persistent=True) as tape:\n",
        "        # This tape is for derivatives with\n",
        "        # respect to trainable variables\n",
        "        tape.watch(model.trainable_variables)\n",
        "        loss, loss_pde = compute_loss(model, X_r, X_data, u_data)\n",
        "\n",
        "    grad = tape.gradient(loss, model.trainable_variables)\n",
        "    del tape\n",
        "\n",
        "    return loss, loss_pde, grad"
      ]
    },
    {
      "cell_type": "code",
      "execution_count": 22,
      "metadata": {
        "id": "OaBOG0SME245"
      },
      "outputs": [],
      "source": [
        "# Initialize model\n",
        "model = PINN_NeuralNet(lb, ub, num_hidden_layers=2,\n",
        "                            activation= 'tanh', # tf.keras.layers.LeakyReLU(alpha=0.1)\n",
        "                            kernel_initializer='glorot_normal') # 'he_normal'\n",
        "\n",
        "#model.build(input_shape=(None,1))\n",
        "\n",
        "# We choose a piecewise decay of the learning rate, i.e., the\n",
        "# step size in the gradient descent type algorithm\n",
        "# the first 1000 steps use a learning rate of 0.01\n",
        "# from 1000 - 3000: learning rate = 0.001\n",
        "# from 3000 onwards: learning rate = 0.0005\n",
        "\n",
        "learn_rate = tf.keras.optimizers.schedules.PiecewiseConstantDecay([1000,3000,10000],[2e-3,1e-3,5e-4,1e-4])\n",
        "\n",
        "# Choose the optimizer\n",
        "optimizer = tf.keras.optimizers.Adam(learning_rate=learn_rate)"
      ]
    },
    {
      "cell_type": "code",
      "execution_count": 23,
      "metadata": {
        "id": "Ve3OM2TjE245"
      },
      "outputs": [],
      "source": [
        "# Define one training step as a TensorFlow function to increase speed of training\n",
        "@tf.function\n",
        "def train_step():\n",
        "    # Compute current loss and gradient w.r.t. parameters\n",
        "    loss, loss_pde, grad_theta = get_grad(model, X_r, X_param, u_param)\n",
        "\n",
        "    # Perform gradient descent step\n",
        "    optimizer.apply_gradients(zip(grad_theta, model.trainable_variables))\n",
        "\n",
        "    return loss, loss_pde"
      ]
    },
    {
      "cell_type": "code",
      "execution_count": 25,
      "metadata": {
        "colab": {
          "base_uri": "https://localhost:8080/"
        },
        "id": "0j4xUK3OE246",
        "outputId": "1d077328-7369-4804-e7f1-776592459b30"
      },
      "outputs": [
        {
          "output_type": "stream",
          "name": "stdout",
          "text": [
            "It 00000: loss = 3.38393044e+00 loss_pde = 3.17408943e+00\n",
            "It 00050: loss = 1.02361903e-01 loss_pde = 5.26421852e-02\n",
            "It 00100: loss = 4.04963121e-02 loss_pde = 3.49870622e-02\n",
            "It 00150: loss = 2.40288768e-02 loss_pde = 2.30716821e-02\n",
            "It 00200: loss = 1.11807538e-02 loss_pde = 1.11320484e-02\n",
            "It 00250: loss = 3.45244398e-03 loss_pde = 2.83777900e-03\n",
            "It 00300: loss = 1.50479772e-03 loss_pde = 1.12075568e-03\n",
            "It 00350: loss = 1.06591987e-03 loss_pde = 9.57477256e-04\n",
            "It 00400: loss = 9.21520696e-04 loss_pde = 8.87681381e-04\n",
            "It 00450: loss = 8.46000854e-04 loss_pde = 8.32442718e-04\n",
            "It 00500: loss = 7.91760627e-04 loss_pde = 7.84971460e-04\n",
            "It 00550: loss = 7.46266160e-04 loss_pde = 7.42237200e-04\n",
            "It 00600: loss = 7.04914739e-04 loss_pde = 7.02206569e-04\n",
            "It 00650: loss = 6.65880740e-04 loss_pde = 6.63880957e-04\n",
            "It 00700: loss = 6.28501351e-04 loss_pde = 6.26917521e-04\n",
            "It 00750: loss = 5.92571800e-04 loss_pde = 5.91254095e-04\n",
            "It 00800: loss = 5.58055122e-04 loss_pde = 5.56922518e-04\n",
            "It 00850: loss = 5.24949399e-04 loss_pde = 5.23954805e-04\n",
            "It 00900: loss = 4.93265514e-04 loss_pde = 4.92380932e-04\n",
            "It 00950: loss = 4.62999917e-04 loss_pde = 4.62206372e-04\n",
            "It 01000: loss = 4.34141984e-04 loss_pde = 4.33425885e-04\n",
            "It 01050: loss = 4.20145632e-04 loss_pde = 4.19465330e-04\n",
            "It 01100: loss = 4.06253646e-04 loss_pde = 4.05606610e-04\n",
            "It 01150: loss = 3.92479647e-04 loss_pde = 3.91864480e-04\n",
            "It 01200: loss = 3.78846569e-04 loss_pde = 3.78261117e-04\n",
            "It 01250: loss = 3.65378684e-04 loss_pde = 3.64821928e-04\n",
            "It 01300: loss = 3.52090545e-04 loss_pde = 3.51560768e-04\n",
            "It 01350: loss = 3.39001504e-04 loss_pde = 3.38497164e-04\n",
            "It 01400: loss = 3.26129026e-04 loss_pde = 3.25649395e-04\n",
            "It 01450: loss = 3.13484314e-04 loss_pde = 3.13027849e-04\n",
            "It 01500: loss = 3.01079941e-04 loss_pde = 3.00645625e-04\n",
            "It 01550: loss = 2.88926676e-04 loss_pde = 2.88512791e-04\n",
            "It 01600: loss = 2.77034444e-04 loss_pde = 2.76640349e-04\n",
            "It 01650: loss = 2.65412760e-04 loss_pde = 2.65037204e-04\n",
            "It 01700: loss = 2.54066865e-04 loss_pde = 2.53709150e-04\n",
            "It 01750: loss = 2.43002767e-04 loss_pde = 2.42661772e-04\n",
            "It 01800: loss = 2.32225357e-04 loss_pde = 2.31900267e-04\n",
            "It 01850: loss = 2.21739712e-04 loss_pde = 2.21429626e-04\n",
            "It 01900: loss = 2.11548700e-04 loss_pde = 2.11252904e-04\n",
            "It 01950: loss = 2.01655304e-04 loss_pde = 2.01373128e-04\n",
            "It 02000: loss = 1.92059641e-04 loss_pde = 1.91790328e-04\n",
            "It 02050: loss = 1.82764241e-04 loss_pde = 1.82507560e-04\n",
            "It 02100: loss = 1.73767869e-04 loss_pde = 1.73522902e-04\n",
            "It 02150: loss = 1.65069796e-04 loss_pde = 1.64836005e-04\n",
            "It 02200: loss = 1.56669907e-04 loss_pde = 1.56446928e-04\n",
            "It 02250: loss = 1.48566251e-04 loss_pde = 1.48353574e-04\n",
            "It 02300: loss = 1.40756267e-04 loss_pde = 1.40553471e-04\n",
            "It 02350: loss = 1.33238311e-04 loss_pde = 1.33045076e-04\n",
            "It 02400: loss = 1.26008148e-04 loss_pde = 1.25823892e-04\n",
            "It 02450: loss = 1.19062512e-04 loss_pde = 1.18887110e-04\n",
            "It 02500: loss = 1.12397240e-04 loss_pde = 1.12230235e-04\n",
            "It 02550: loss = 1.06007537e-04 loss_pde = 1.05848681e-04\n",
            "It 02600: loss = 9.98886680e-05 loss_pde = 9.97376192e-05\n",
            "It 02650: loss = 9.40362879e-05 loss_pde = 9.38927697e-05\n",
            "It 02700: loss = 8.84441033e-05 loss_pde = 8.83078828e-05\n",
            "It 02750: loss = 8.31070138e-05 loss_pde = 8.29778364e-05\n",
            "It 02800: loss = 7.80188930e-05 loss_pde = 7.78964604e-05\n",
            "It 02850: loss = 7.31735126e-05 loss_pde = 7.30575775e-05\n",
            "It 02900: loss = 6.85646737e-05 loss_pde = 6.84551269e-05\n",
            "It 02950: loss = 6.41859660e-05 loss_pde = 6.40825165e-05\n",
            "It 03000: loss = 6.00306666e-05 loss_pde = 5.99329942e-05\n",
            "It 03050: loss = 5.80282031e-05 loss_pde = 5.79334665e-05\n",
            "It 03100: loss = 5.60553053e-05 loss_pde = 5.59634827e-05\n",
            "It 03150: loss = 5.41116278e-05 loss_pde = 5.40225155e-05\n",
            "It 03200: loss = 5.21997899e-05 loss_pde = 5.21135662e-05\n",
            "It 03250: loss = 5.03201263e-05 loss_pde = 5.02365874e-05\n",
            "It 03300: loss = 4.84734337e-05 loss_pde = 4.83926524e-05\n",
            "It 03350: loss = 4.66616912e-05 loss_pde = 4.65834746e-05\n",
            "It 03400: loss = 4.48861174e-05 loss_pde = 4.48106075e-05\n",
            "It 03450: loss = 4.31475892e-05 loss_pde = 4.30747095e-05\n",
            "It 03500: loss = 4.14453643e-05 loss_pde = 4.13751368e-05\n",
            "It 03550: loss = 3.97814365e-05 loss_pde = 3.97137774e-05\n",
            "It 03600: loss = 3.81567297e-05 loss_pde = 3.80915371e-05\n",
            "It 03650: loss = 3.65719206e-05 loss_pde = 3.65093219e-05\n",
            "It 03700: loss = 3.50276605e-05 loss_pde = 3.49674920e-05\n",
            "It 03750: loss = 3.35234290e-05 loss_pde = 3.34656434e-05\n",
            "It 03800: loss = 3.20604595e-05 loss_pde = 3.20050131e-05\n",
            "It 03850: loss = 3.06399525e-05 loss_pde = 3.05868671e-05\n",
            "It 03900: loss = 2.92611167e-05 loss_pde = 2.92102359e-05\n",
            "It 03950: loss = 2.79246469e-05 loss_pde = 2.78759817e-05\n",
            "It 04000: loss = 2.66305706e-05 loss_pde = 2.65841045e-05\n",
            "It 04050: loss = 2.53784074e-05 loss_pde = 2.53340950e-05\n",
            "It 04100: loss = 2.41689741e-05 loss_pde = 2.41266825e-05\n",
            "It 04150: loss = 2.30019850e-05 loss_pde = 2.29617017e-05\n",
            "It 04200: loss = 2.18772948e-05 loss_pde = 2.18390378e-05\n",
            "It 04250: loss = 2.07950961e-05 loss_pde = 2.07587236e-05\n",
            "It 04300: loss = 1.97545687e-05 loss_pde = 1.97200370e-05\n",
            "It 04350: loss = 1.87555452e-05 loss_pde = 1.87228179e-05\n",
            "It 04400: loss = 1.77978272e-05 loss_pde = 1.77669008e-05\n",
            "It 04450: loss = 1.68809001e-05 loss_pde = 1.68515708e-05\n",
            "It 04500: loss = 1.60039071e-05 loss_pde = 1.59761912e-05\n",
            "It 04550: loss = 1.51664672e-05 loss_pde = 1.51403110e-05\n",
            "It 04600: loss = 1.43677817e-05 loss_pde = 1.43431735e-05\n",
            "It 04650: loss = 1.36071067e-05 loss_pde = 1.35839382e-05\n",
            "It 04700: loss = 1.28836045e-05 loss_pde = 1.28617912e-05\n",
            "It 04750: loss = 1.21966477e-05 loss_pde = 1.21761759e-05\n",
            "It 04800: loss = 1.15450357e-05 loss_pde = 1.15258281e-05\n",
            "It 04850: loss = 1.09283492e-05 loss_pde = 1.09103821e-05\n",
            "It 04900: loss = 1.03451994e-05 loss_pde = 1.03284119e-05\n",
            "It 04950: loss = 9.79499237e-06 loss_pde = 9.77927994e-06\n",
            "It 05000: loss = 9.27686688e-06 loss_pde = 9.26218490e-06\n",
            "It 05050: loss = 8.78940500e-06 loss_pde = 8.77574257e-06\n",
            "It 05100: loss = 8.33145714e-06 loss_pde = 8.31874604e-06\n",
            "It 05150: loss = 7.90176273e-06 loss_pde = 7.88994021e-06\n",
            "It 05200: loss = 7.49955643e-06 loss_pde = 7.48857337e-06\n",
            "It 05250: loss = 7.12385599e-06 loss_pde = 7.11364646e-06\n",
            "It 05300: loss = 6.77300204e-06 loss_pde = 6.76357286e-06\n",
            "It 05350: loss = 6.44598140e-06 loss_pde = 6.43725252e-06\n",
            "It 05400: loss = 6.14193050e-06 loss_pde = 6.13385919e-06\n",
            "It 05450: loss = 5.85967973e-06 loss_pde = 5.85225007e-06\n",
            "It 05500: loss = 5.59780483e-06 loss_pde = 5.59094406e-06\n",
            "It 05550: loss = 5.35509525e-06 loss_pde = 5.34877017e-06\n",
            "It 05600: loss = 5.13070154e-06 loss_pde = 5.12487532e-06\n",
            "It 05650: loss = 4.92328127e-06 loss_pde = 4.91791161e-06\n",
            "It 05700: loss = 4.73178261e-06 loss_pde = 4.72684087e-06\n",
            "It 05750: loss = 4.55528925e-06 loss_pde = 4.55074587e-06\n",
            "It 05800: loss = 4.39260293e-06 loss_pde = 4.38842972e-06\n",
            "It 05850: loss = 4.24293012e-06 loss_pde = 4.23909387e-06\n",
            "It 05900: loss = 4.10521716e-06 loss_pde = 4.10171151e-06\n",
            "It 05950: loss = 3.97833219e-06 loss_pde = 3.97511985e-06\n",
            "It 06000: loss = 3.86162401e-06 loss_pde = 3.85867042e-06\n",
            "It 06050: loss = 3.75415584e-06 loss_pde = 3.75144919e-06\n",
            "It 06100: loss = 3.65500546e-06 loss_pde = 3.65252026e-06\n",
            "It 06150: loss = 3.56364512e-06 loss_pde = 3.56136798e-06\n",
            "It 06200: loss = 3.47912601e-06 loss_pde = 3.47702598e-06\n",
            "It 06250: loss = 3.40085694e-06 loss_pde = 3.39892813e-06\n",
            "It 06300: loss = 3.32820946e-06 loss_pde = 3.32643708e-06\n",
            "It 06350: loss = 3.26056875e-06 loss_pde = 3.25893825e-06\n",
            "It 06400: loss = 3.19736773e-06 loss_pde = 3.19586843e-06\n",
            "It 06450: loss = 3.13815735e-06 loss_pde = 3.13677015e-06\n",
            "It 06500: loss = 3.08239510e-06 loss_pde = 3.08111680e-06\n",
            "It 06550: loss = 3.02975673e-06 loss_pde = 3.02857097e-06\n",
            "It 06600: loss = 2.97978499e-06 loss_pde = 2.97868633e-06\n",
            "It 06650: loss = 2.93218773e-06 loss_pde = 2.93116705e-06\n",
            "It 06700: loss = 2.88663500e-06 loss_pde = 2.88568867e-06\n",
            "It 06750: loss = 2.84280395e-06 loss_pde = 2.84192038e-06\n",
            "It 06800: loss = 2.80052632e-06 loss_pde = 2.79970618e-06\n",
            "It 06850: loss = 2.75957632e-06 loss_pde = 2.75880734e-06\n",
            "It 06900: loss = 2.71977524e-06 loss_pde = 2.71905446e-06\n",
            "It 06950: loss = 2.68093345e-06 loss_pde = 2.68025747e-06\n",
            "It 07000: loss = 2.64292385e-06 loss_pde = 2.64228083e-06\n",
            "It 07050: loss = 2.60568982e-06 loss_pde = 2.60508773e-06\n",
            "It 07100: loss = 2.56908379e-06 loss_pde = 2.56851195e-06\n",
            "It 07150: loss = 2.53304347e-06 loss_pde = 2.53250664e-06\n",
            "It 07200: loss = 2.49752270e-06 loss_pde = 2.49701452e-06\n",
            "It 07250: loss = 2.46251807e-06 loss_pde = 2.46203581e-06\n",
            "It 07300: loss = 2.42794226e-06 loss_pde = 2.42748092e-06\n",
            "It 07350: loss = 2.39381211e-06 loss_pde = 2.39337328e-06\n",
            "It 07400: loss = 2.36007349e-06 loss_pde = 2.35965558e-06\n",
            "It 07450: loss = 2.32668003e-06 loss_pde = 2.32628008e-06\n",
            "It 07500: loss = 2.29375883e-06 loss_pde = 2.29337729e-06\n",
            "It 07550: loss = 2.26121847e-06 loss_pde = 2.26085444e-06\n",
            "It 07600: loss = 2.22912308e-06 loss_pde = 2.22877475e-06\n",
            "It 07650: loss = 2.19740082e-06 loss_pde = 2.19706658e-06\n",
            "It 07700: loss = 2.16620947e-06 loss_pde = 2.16589183e-06\n",
            "It 07750: loss = 2.13548697e-06 loss_pde = 2.13517978e-06\n",
            "It 07800: loss = 2.10522057e-06 loss_pde = 2.10492681e-06\n",
            "It 07850: loss = 2.07550852e-06 loss_pde = 2.07522817e-06\n",
            "It 07900: loss = 2.04629282e-06 loss_pde = 2.04602384e-06\n",
            "It 07950: loss = 2.01764919e-06 loss_pde = 2.01739067e-06\n",
            "It 08000: loss = 1.98957446e-06 loss_pde = 1.98932685e-06\n",
            "It 08050: loss = 1.96201836e-06 loss_pde = 1.96178098e-06\n",
            "It 08100: loss = 1.93507617e-06 loss_pde = 1.93485198e-06\n",
            "It 08150: loss = 1.90877654e-06 loss_pde = 1.90855826e-06\n",
            "It 08200: loss = 1.88314800e-06 loss_pde = 1.88293984e-06\n",
            "It 08250: loss = 1.85813644e-06 loss_pde = 1.85793840e-06\n",
            "It 08300: loss = 1.83377642e-06 loss_pde = 1.83358645e-06\n",
            "It 08350: loss = 1.81004032e-06 loss_pde = 1.80985774e-06\n",
            "It 08400: loss = 1.78697655e-06 loss_pde = 1.78680466e-06\n",
            "It 08450: loss = 1.76459741e-06 loss_pde = 1.76443370e-06\n",
            "It 08500: loss = 1.74286606e-06 loss_pde = 1.74270826e-06\n",
            "It 08550: loss = 1.72181421e-06 loss_pde = 1.72166563e-06\n",
            "It 08600: loss = 1.70141789e-06 loss_pde = 1.70127566e-06\n",
            "It 08650: loss = 1.68174302e-06 loss_pde = 1.68160807e-06\n",
            "It 08700: loss = 1.66272503e-06 loss_pde = 1.66259770e-06\n",
            "It 08750: loss = 1.64433607e-06 loss_pde = 1.64421419e-06\n",
            "It 08800: loss = 1.62658625e-06 loss_pde = 1.62647120e-06\n",
            "It 08850: loss = 1.60944467e-06 loss_pde = 1.60933644e-06\n",
            "It 08900: loss = 1.59291369e-06 loss_pde = 1.59281069e-06\n",
            "It 08950: loss = 1.57696093e-06 loss_pde = 1.57686372e-06\n",
            "It 09000: loss = 1.56152907e-06 loss_pde = 1.56143699e-06\n",
            "It 09050: loss = 1.54668271e-06 loss_pde = 1.54659642e-06\n",
            "It 09100: loss = 1.53233975e-06 loss_pde = 1.53225801e-06\n",
            "It 09150: loss = 1.51854340e-06 loss_pde = 1.51846643e-06\n",
            "It 09200: loss = 1.50518986e-06 loss_pde = 1.50511823e-06\n",
            "It 09250: loss = 1.49234370e-06 loss_pde = 1.49227617e-06\n",
            "It 09300: loss = 1.47987885e-06 loss_pde = 1.47981496e-06\n",
            "It 09350: loss = 1.46785555e-06 loss_pde = 1.46779519e-06\n",
            "It 09400: loss = 1.45617207e-06 loss_pde = 1.45611489e-06\n",
            "It 09450: loss = 1.44485148e-06 loss_pde = 1.44479964e-06\n",
            "It 09500: loss = 1.43383647e-06 loss_pde = 1.43378713e-06\n",
            "It 09550: loss = 1.42310682e-06 loss_pde = 1.42305953e-06\n",
            "It 09600: loss = 1.41266935e-06 loss_pde = 1.41262512e-06\n",
            "It 09650: loss = 1.40245663e-06 loss_pde = 1.40241616e-06\n",
            "It 09700: loss = 1.39247481e-06 loss_pde = 1.39243571e-06\n",
            "It 09750: loss = 1.38266887e-06 loss_pde = 1.38263295e-06\n",
            "It 09800: loss = 1.37301083e-06 loss_pde = 1.37297639e-06\n",
            "It 09850: loss = 1.36349104e-06 loss_pde = 1.36345943e-06\n",
            "It 09900: loss = 1.35410073e-06 loss_pde = 1.35406947e-06\n",
            "It 09950: loss = 1.34480888e-06 loss_pde = 1.34477989e-06\n",
            "It 10000: loss = 1.33556614e-06 loss_pde = 1.33553931e-06\n",
            "It 10050: loss = 1.33371748e-06 loss_pde = 1.33369042e-06\n",
            "It 10100: loss = 1.33180674e-06 loss_pde = 1.33178014e-06\n",
            "It 10150: loss = 1.32988009e-06 loss_pde = 1.32985372e-06\n",
            "It 10200: loss = 1.32789557e-06 loss_pde = 1.32786943e-06\n",
            "It 10250: loss = 1.32587627e-06 loss_pde = 1.32585092e-06\n",
            "It 10300: loss = 1.32382911e-06 loss_pde = 1.32380387e-06\n",
            "It 10350: loss = 1.32177411e-06 loss_pde = 1.32174921e-06\n",
            "It 10400: loss = 1.31964873e-06 loss_pde = 1.31962372e-06\n",
            "It 10450: loss = 1.31746583e-06 loss_pde = 1.31744093e-06\n",
            "It 10500: loss = 1.31526519e-06 loss_pde = 1.31524109e-06\n",
            "It 10550: loss = 1.31302852e-06 loss_pde = 1.31300487e-06\n",
            "It 10600: loss = 1.31074660e-06 loss_pde = 1.31072295e-06\n",
            "It 10650: loss = 1.30842170e-06 loss_pde = 1.30839896e-06\n",
            "It 10700: loss = 1.30606065e-06 loss_pde = 1.30603826e-06\n",
            "It 10750: loss = 1.30365868e-06 loss_pde = 1.30363662e-06\n",
            "It 10800: loss = 1.30120111e-06 loss_pde = 1.30117940e-06\n",
            "It 10850: loss = 1.29870182e-06 loss_pde = 1.29867999e-06\n",
            "It 10900: loss = 1.29615921e-06 loss_pde = 1.29613773e-06\n",
            "It 10950: loss = 1.29357466e-06 loss_pde = 1.29355351e-06\n",
            "It 11000: loss = 1.29091040e-06 loss_pde = 1.29088903e-06\n",
            "It 11050: loss = 1.28822569e-06 loss_pde = 1.28820534e-06\n",
            "It 11100: loss = 1.28549664e-06 loss_pde = 1.28547640e-06\n",
            "It 11150: loss = 1.28267311e-06 loss_pde = 1.28265219e-06\n",
            "It 11200: loss = 1.27982059e-06 loss_pde = 1.27980081e-06\n",
            "It 11250: loss = 1.27689282e-06 loss_pde = 1.27687360e-06\n",
            "It 11300: loss = 1.27392889e-06 loss_pde = 1.27390956e-06\n",
            "It 11350: loss = 1.27089390e-06 loss_pde = 1.27087503e-06\n",
            "It 11400: loss = 1.26779844e-06 loss_pde = 1.26777957e-06\n",
            "It 11450: loss = 1.26466773e-06 loss_pde = 1.26464943e-06\n",
            "It 11500: loss = 1.26145551e-06 loss_pde = 1.26143777e-06\n",
            "It 11550: loss = 1.25821225e-06 loss_pde = 1.25819395e-06\n",
            "It 11600: loss = 1.25487816e-06 loss_pde = 1.25486054e-06\n",
            "It 11650: loss = 1.25149120e-06 loss_pde = 1.25147426e-06\n",
            "It 11700: loss = 1.24804626e-06 loss_pde = 1.24802943e-06\n",
            "It 11750: loss = 1.24451481e-06 loss_pde = 1.24449878e-06\n",
            "It 11800: loss = 1.24094208e-06 loss_pde = 1.24092605e-06\n",
            "It 11850: loss = 1.23730183e-06 loss_pde = 1.23728580e-06\n",
            "It 11900: loss = 1.23358279e-06 loss_pde = 1.23356699e-06\n",
            "It 11950: loss = 1.22976724e-06 loss_pde = 1.22975132e-06\n",
            "It 12000: loss = 1.22590518e-06 loss_pde = 1.22589006e-06\n",
            "It 12050: loss = 1.22192648e-06 loss_pde = 1.22191148e-06\n",
            "It 12100: loss = 1.21790652e-06 loss_pde = 1.21789174e-06\n",
            "It 12150: loss = 1.21380151e-06 loss_pde = 1.21378707e-06\n",
            "It 12200: loss = 1.20962704e-06 loss_pde = 1.20961238e-06\n",
            "It 12250: loss = 1.20535731e-06 loss_pde = 1.20534298e-06\n",
            "It 12300: loss = 1.20102584e-06 loss_pde = 1.20101208e-06\n",
            "It 12350: loss = 1.19661740e-06 loss_pde = 1.19660365e-06\n",
            "It 12400: loss = 1.19210949e-06 loss_pde = 1.19209619e-06\n",
            "It 12450: loss = 1.18752098e-06 loss_pde = 1.18750745e-06\n",
            "It 12500: loss = 1.18286403e-06 loss_pde = 1.18285072e-06\n",
            "It 12550: loss = 1.17807201e-06 loss_pde = 1.17805905e-06\n",
            "It 12600: loss = 1.17321758e-06 loss_pde = 1.17320496e-06\n",
            "It 12650: loss = 1.16825424e-06 loss_pde = 1.16824162e-06\n",
            "It 12700: loss = 1.16319950e-06 loss_pde = 1.16318722e-06\n",
            "It 12750: loss = 1.15804164e-06 loss_pde = 1.15802970e-06\n",
            "It 12800: loss = 1.15281580e-06 loss_pde = 1.15280375e-06\n",
            "It 12850: loss = 1.14747922e-06 loss_pde = 1.14746751e-06\n",
            "It 12900: loss = 1.14203920e-06 loss_pde = 1.14202760e-06\n",
            "It 12950: loss = 1.13650231e-06 loss_pde = 1.13649071e-06\n",
            "It 13000: loss = 1.13089277e-06 loss_pde = 1.13088140e-06\n",
            "It 13050: loss = 1.12515249e-06 loss_pde = 1.12514158e-06\n",
            "It 13100: loss = 1.11931695e-06 loss_pde = 1.11930603e-06\n",
            "It 13150: loss = 1.11334907e-06 loss_pde = 1.11333804e-06\n",
            "It 13200: loss = 1.10728331e-06 loss_pde = 1.10727262e-06\n",
            "It 13250: loss = 1.10109488e-06 loss_pde = 1.10108465e-06\n",
            "It 13300: loss = 1.09481380e-06 loss_pde = 1.09480322e-06\n",
            "It 13350: loss = 1.08842914e-06 loss_pde = 1.08841948e-06\n",
            "It 13400: loss = 1.08193512e-06 loss_pde = 1.08192501e-06\n",
            "It 13450: loss = 1.07532333e-06 loss_pde = 1.07531321e-06\n",
            "It 13500: loss = 1.06859443e-06 loss_pde = 1.06858488e-06\n",
            "It 13550: loss = 1.06177345e-06 loss_pde = 1.06176378e-06\n",
            "It 13600: loss = 1.05481547e-06 loss_pde = 1.05480615e-06\n",
            "It 13650: loss = 1.04773278e-06 loss_pde = 1.04772346e-06\n",
            "It 13700: loss = 1.04054686e-06 loss_pde = 1.04053788e-06\n",
            "It 13750: loss = 1.03323487e-06 loss_pde = 1.03322566e-06\n",
            "It 13800: loss = 1.02581043e-06 loss_pde = 1.02580168e-06\n",
            "It 13850: loss = 1.01826038e-06 loss_pde = 1.01825071e-06\n",
            "It 13900: loss = 1.01060448e-06 loss_pde = 1.01059550e-06\n",
            "It 13950: loss = 1.00283478e-06 loss_pde = 1.00282591e-06\n",
            "It 14000: loss = 9.94947754e-07 loss_pde = 9.94939228e-07\n",
            "It 14050: loss = 9.86927262e-07 loss_pde = 9.86919417e-07\n",
            "It 14100: loss = 9.78802063e-07 loss_pde = 9.78793878e-07\n",
            "It 14150: loss = 9.70544647e-07 loss_pde = 9.70536234e-07\n",
            "It 14200: loss = 9.62157628e-07 loss_pde = 9.62150125e-07\n",
            "It 14250: loss = 9.53659367e-07 loss_pde = 9.53651750e-07\n",
            "It 14300: loss = 9.45341924e-07 loss_pde = 9.45288036e-07\n",
            "It 14350: loss = 9.36589572e-07 loss_pde = 9.36580136e-07\n",
            "It 14400: loss = 9.27937265e-07 loss_pde = 9.27928738e-07\n",
            "It 14450: loss = 9.21273283e-07 loss_pde = 9.20966841e-07\n",
            "It 14500: loss = 9.10531924e-07 loss_pde = 9.10519475e-07\n",
            "It 14550: loss = 9.01733358e-07 loss_pde = 9.01726821e-07\n",
            "It 14600: loss = 8.92982939e-07 loss_pde = 8.92960657e-07\n",
            "It 14650: loss = 8.83989003e-07 loss_pde = 8.83974451e-07\n",
            "It 14700: loss = 8.75014564e-07 loss_pde = 8.75009562e-07\n",
            "It 14750: loss = 8.66220603e-07 loss_pde = 8.66169898e-07\n",
            "It 14800: loss = 8.57120540e-07 loss_pde = 8.57115083e-07\n",
            "It 14850: loss = 8.48103639e-07 loss_pde = 8.48095283e-07\n",
            "It 14900: loss = 8.39093161e-07 loss_pde = 8.39080258e-07\n",
            "It 14950: loss = 8.30071144e-07 loss_pde = 8.30064323e-07\n",
            "It 15000: loss = 8.23622145e-07 loss_pde = 8.22312245e-07\n",
            "It 15050: loss = 8.12126189e-07 loss_pde = 8.12104531e-07\n",
            "It 15100: loss = 8.13380950e-07 loss_pde = 8.07791821e-07\n",
            "It 15150: loss = 7.94279572e-07 loss_pde = 7.94273092e-07\n",
            "It 15200: loss = 7.85395173e-07 loss_pde = 7.85389943e-07\n",
            "It 15250: loss = 7.77158220e-07 loss_pde = 7.76796810e-07\n",
            "It 15300: loss = 7.68014445e-07 loss_pde = 7.67983636e-07\n",
            "It 15350: loss = 7.59303418e-07 loss_pde = 7.59299155e-07\n",
            "It 15400: loss = 7.50778213e-07 loss_pde = 7.50659581e-07\n",
            "It 15450: loss = 7.42101406e-07 loss_pde = 7.42063378e-07\n",
            "It 15500: loss = 7.33569607e-07 loss_pde = 7.33565400e-07\n",
            "It 15550: loss = 7.25076120e-07 loss_pde = 7.25057362e-07\n",
            "It 15600: loss = 7.18676404e-07 loss_pde = 7.17535670e-07\n",
            "It 15650: loss = 7.08380014e-07 loss_pde = 7.08369555e-07\n",
            "It 15700: loss = 7.00012322e-07 loss_pde = 7.00005785e-07\n",
            "It 15750: loss = 6.92124672e-07 loss_pde = 6.91923219e-07\n",
            "It 15800: loss = 6.83919779e-07 loss_pde = 6.83895053e-07\n",
            "It 15850: loss = 6.75927254e-07 loss_pde = 6.75923900e-07\n",
            "It 15900: loss = 6.67897666e-07 loss_pde = 6.67892436e-07\n",
            "It 15950: loss = 6.67399263e-07 loss_pde = 6.63441710e-07\n",
            "It 16000: loss = 6.52362928e-07 loss_pde = 6.52337803e-07\n",
            "It 16050: loss = 6.44640636e-07 loss_pde = 6.44637623e-07\n",
            "It 16100: loss = 6.37503888e-07 loss_pde = 6.37169023e-07\n",
            "It 16150: loss = 6.29995668e-07 loss_pde = 6.29637668e-07\n",
            "It 16200: loss = 6.21849665e-07 loss_pde = 6.21844606e-07\n",
            "It 16250: loss = 6.20311823e-07 loss_pde = 6.17145986e-07\n",
            "It 16300: loss = 6.07984020e-07 loss_pde = 6.07543370e-07\n",
            "It 16350: loss = 6.00067040e-07 loss_pde = 6.00061014e-07\n",
            "It 16400: loss = 5.92899937e-07 loss_pde = 5.92892491e-07\n",
            "It 16450: loss = 6.03228898e-07 loss_pde = 5.94444487e-07\n",
            "It 16500: loss = 5.78911624e-07 loss_pde = 5.78889967e-07\n",
            "It 16550: loss = 5.71955525e-07 loss_pde = 5.71952796e-07\n",
            "It 16600: loss = 5.65648065e-07 loss_pde = 5.65352366e-07\n",
            "It 16650: loss = 5.58770068e-07 loss_pde = 5.58669626e-07\n",
            "It 16700: loss = 5.52104837e-07 loss_pde = 5.52102620e-07\n",
            "It 16750: loss = 5.45546300e-07 loss_pde = 5.45543514e-07\n",
            "It 16800: loss = 5.45770945e-07 loss_pde = 5.42377109e-07\n",
            "It 16850: loss = 5.32799845e-07 loss_pde = 5.32765569e-07\n",
            "It 16900: loss = 5.26462941e-07 loss_pde = 5.26459928e-07\n",
            "It 16950: loss = 5.21747268e-07 loss_pde = 5.20971412e-07\n",
            "It 17000: loss = 5.14180897e-07 loss_pde = 5.14169471e-07\n",
            "It 17050: loss = 5.08117694e-07 loss_pde = 5.08115534e-07\n",
            "It 17100: loss = 5.45138789e-07 loss_pde = 5.23913343e-07\n",
            "It 17150: loss = 4.97130145e-07 loss_pde = 4.96766177e-07\n",
            "It 17200: loss = 4.90725029e-07 loss_pde = 4.90721391e-07\n",
            "It 17250: loss = 4.85040175e-07 loss_pde = 4.85036935e-07\n",
            "It 17300: loss = 5.19717048e-07 loss_pde = 4.99950715e-07\n",
            "It 17350: loss = 4.73828976e-07 loss_pde = 4.73815334e-07\n",
            "It 17400: loss = 4.68341455e-07 loss_pde = 4.68338982e-07\n",
            "It 17450: loss = 5.05923481e-07 loss_pde = 4.85089686e-07\n",
            "It 17500: loss = 4.58103500e-07 loss_pde = 4.57867628e-07\n",
            "It 17550: loss = 4.52375190e-07 loss_pde = 4.52373598e-07\n",
            "It 17600: loss = 4.47143663e-07 loss_pde = 4.47111603e-07\n",
            "It 17650: loss = 4.43774468e-07 loss_pde = 4.42912835e-07\n",
            "It 17700: loss = 4.37148344e-07 loss_pde = 4.37142091e-07\n",
            "It 17750: loss = 4.32182560e-07 loss_pde = 4.32180940e-07\n",
            "It 17800: loss = 4.27776399e-07 loss_pde = 4.27480842e-07\n",
            "It 17850: loss = 4.22534896e-07 loss_pde = 4.22453354e-07\n",
            "It 17900: loss = 4.17683083e-07 loss_pde = 4.17665603e-07\n",
            "It 17950: loss = 4.12905621e-07 loss_pde = 4.12895929e-07\n",
            "It 18000: loss = 4.11429767e-07 loss_pde = 4.09870523e-07\n",
            "It 18050: loss = 4.03766819e-07 loss_pde = 4.03735584e-07\n",
            "It 18100: loss = 3.99156761e-07 loss_pde = 3.99154715e-07\n",
            "It 18150: loss = 4.77347783e-07 loss_pde = 4.37564410e-07\n",
            "It 18200: loss = 3.90440647e-07 loss_pde = 3.90381956e-07\n",
            "It 18250: loss = 3.86021810e-07 loss_pde = 3.86020332e-07\n",
            "It 18300: loss = 3.81733940e-07 loss_pde = 3.81703870e-07\n",
            "It 18350: loss = 3.81986126e-07 loss_pde = 3.79766504e-07\n",
            "It 18400: loss = 3.73319978e-07 loss_pde = 3.73287889e-07\n",
            "It 18450: loss = 3.74211595e-07 loss_pde = 3.71733023e-07\n",
            "It 18500: loss = 3.64988324e-07 loss_pde = 3.64987187e-07\n",
            "It 18550: loss = 3.60955738e-07 loss_pde = 3.60954687e-07\n",
            "It 18600: loss = 3.61640843e-07 loss_pde = 3.59378589e-07\n",
            "It 18650: loss = 3.53076047e-07 loss_pde = 3.53050581e-07\n",
            "It 18700: loss = 3.49163230e-07 loss_pde = 3.49131170e-07\n",
            "It 18750: loss = 3.49012993e-07 loss_pde = 3.47211483e-07\n",
            "It 18800: loss = 3.41537515e-07 loss_pde = 3.41524810e-07\n",
            "It 18850: loss = 3.37769052e-07 loss_pde = 3.37750237e-07\n",
            "It 18900: loss = 3.34543302e-07 loss_pde = 3.34307060e-07\n",
            "It 18950: loss = 3.30486756e-07 loss_pde = 3.30485022e-07\n",
            "It 19000: loss = 3.26896981e-07 loss_pde = 3.26887829e-07\n",
            "It 19050: loss = 3.24475110e-07 loss_pde = 3.23904942e-07\n",
            "It 19100: loss = 3.20102373e-07 loss_pde = 3.19986754e-07\n",
            "It 19150: loss = 3.16394932e-07 loss_pde = 3.16392942e-07\n",
            "It 19200: loss = 3.14795386e-07 loss_pde = 3.13880491e-07\n",
            "It 19250: loss = 3.11215331e-07 loss_pde = 3.10448428e-07\n",
            "It 19300: loss = 3.06286353e-07 loss_pde = 3.06285273e-07\n",
            "It 19350: loss = 3.02965276e-07 loss_pde = 3.02964395e-07\n",
            "It 19400: loss = 3.03262482e-07 loss_pde = 3.01539046e-07\n",
            "It 19450: loss = 2.96683538e-07 loss_pde = 2.96618055e-07\n",
            "It 19500: loss = 2.93409784e-07 loss_pde = 2.93408533e-07\n",
            "It 19550: loss = 2.90224904e-07 loss_pde = 2.90220214e-07\n",
            "It 19600: loss = 2.94715051e-07 loss_pde = 2.91083296e-07\n",
            "It 19650: loss = 2.84147177e-07 loss_pde = 2.84130351e-07\n",
            "It 19700: loss = 2.81105542e-07 loss_pde = 2.81102416e-07\n",
            "It 19750: loss = 2.80922450e-07 loss_pde = 2.79555593e-07\n",
            "It 19800: loss = 2.75954051e-07 loss_pde = 2.75546654e-07\n",
            "It 19850: loss = 2.72219609e-07 loss_pde = 2.72211366e-07\n",
            "It 19900: loss = 2.69265797e-07 loss_pde = 2.69257015e-07\n",
            "It 19950: loss = 2.71762303e-07 loss_pde = 2.69184994e-07\n",
            "It 20000: loss = 2.63696876e-07 loss_pde = 2.63696023e-07\n",
            "\n",
            "Computation time: 23.854461193084717 seconds\n"
          ]
        }
      ],
      "source": [
        "# Number of training epochs\n",
        "N = 20000\n",
        "loss_history = []\n",
        "loss_pde_history = []\n",
        "#alpha_list = []\n",
        "\n",
        "from time import time\n",
        "\n",
        "# Start timer\n",
        "t0 = time()\n",
        "\n",
        "for i in range(N+1):\n",
        "\n",
        "    loss, loss_pde = train_step()\n",
        "\n",
        "    # Append current loss to hist\n",
        "    loss_history.append(loss.numpy())\n",
        "    loss_pde_history.append(loss_pde.numpy())\n",
        "\n",
        "    #alpha = model.alpha.numpy()\n",
        "    #alpha_list.append(alpha)\n",
        "\n",
        "    # Output current loss after 50 iterates\n",
        "    if i%50 == 0:\n",
        "        print('It {:05d}: loss = {:10.8e} loss_pde = {:10.8e}'.format(i,loss,loss_pde))\n",
        "        #print('It {:05d}: loss = {:10.8e} loss_pde = {:10.8e} alpha = {:10.8e}'.format(i,loss,loss_pde,alpha))\n",
        "\n",
        "#alpha_rel_error = np.abs((model.alpha.numpy()-alpha_test)/alpha_test)\n",
        "#print('Relative error of alpha ', alpha_rel_error)\n",
        "\n",
        "# Print computation time\n",
        "print('\\nComputation time: {} seconds'.format(time()-t0))"
      ]
    },
    {
      "cell_type": "code",
      "execution_count": 47,
      "metadata": {
        "colab": {
          "base_uri": "https://localhost:8080/",
          "height": 415
        },
        "id": "fQh3aJXKE246",
        "outputId": "b06be3d7-acf2-4550-cbf0-f1a1d73e7d9e"
      },
      "outputs": [
        {
          "output_type": "execute_result",
          "data": {
            "text/plain": [
              "Text(0, 0.5, '$\\\\phi_{n_{epoch}}$')"
            ]
          },
          "metadata": {},
          "execution_count": 47
        },
        {
          "output_type": "display_data",
          "data": {
            "text/plain": [
              "<Figure size 648x432 with 1 Axes>"
            ],
            "image/png": "[encoded data removed]"
          },
          "metadata": {
            "needs_background": "light"
          }
        }
      ],
      "source": [
        "fig = plt.figure(figsize=(9,6))\n",
        "ax1 = fig.add_subplot(111)\n",
        "ax1.semilogy(range(len(loss_history)), loss_history,'k-')\n",
        "ax1.semilogy(range(len(loss_history)), loss_pde_history,'b-')\n",
        "ax1.set_xlabel('$n_{epoch}$', fontsize = 18)\n",
        "ax1.set_ylabel('$\\\\phi_{n_{epoch}}$', fontsize = 18)\n",
        "\n",
        "#ax2 = ax1.twinx()  # instantiate the second axis sharing the same x-axis\n",
        "#color = 'tab:red'\n",
        "#ax2.tick_params(axis='y', labelcolor=color)\n",
        "#ax2.plot(range(len(loss_history)), alpha_list,'-',color=color)\n",
        "#ax2.set_ylabel('$\\\\alpha^{n_{epoch}}$', color=color, fontsize = 18)"
      ]
    },
    {
      "cell_type": "code",
      "source": [
        "tf.random.set_seed(10)\n",
        "x_test = tf.random.uniform((50,1), lb, ub, dtype=DTYPE)"
      ],
      "metadata": {
        "id": "y98Vyl5H7h50"
      },
      "execution_count": 56,
      "outputs": []
    },
    {
      "cell_type": "code",
      "source": [
        "u_modeled = model(x_test).numpy()\n",
        "u_exact = heat_eq_exact_solution(x_test, alpha_test).numpy()\n",
        "error = np.abs((u_modeled - u_exact)/u_exact)"
      ],
      "metadata": {
        "id": "6hxeVdad7xf0"
      },
      "execution_count": 57,
      "outputs": []
    },
    {
      "cell_type": "code",
      "source": [
        "for i in range(len(x_test)):\n",
        "    print(x_test[i].numpy(),u_modeled[i],u_exact[i],error[i])"
      ],
      "metadata": {
        "colab": {
          "base_uri": "https://localhost:8080/"
        },
        "id": "yp5vTi9G8f-k",
        "outputId": "c0709600-52ea-427b-ff55-0c153d097ae8"
      },
      "execution_count": 58,
      "outputs": [
        {
          "output_type": "stream",
          "name": "stdout",
          "text": [
            "[0.644151] [-0.03438047] [-0.03438308] [7.5950986e-05]\n",
            "[0.8082472] [-0.02324671] [-0.02324755] [3.6295365e-05]\n",
            "[0.8976548] [-0.01378165] [-0.0137806] [7.616507e-05]\n",
            "[0.6368902] [-0.03468674] [-0.03468916] [6.969651e-05]\n",
            "[0.6270969] [-0.03507492] [-0.03507696] [5.8199428e-05]\n",
            "[0.9936013] [-0.00095242] [-0.00095366] [0.00129781]\n",
            "[0.02359486] [-0.00345808] [-0.00345572] [0.00068339]\n",
            "[0.03668392] [-0.00530344] [-0.00530073] [0.00051145]\n",
            "[0.5860578] [-0.03638832] [-0.03638911] [2.1600867e-05]\n",
            "[0.5740315] [-0.03667752] [-0.0366779] [1.0258338e-05]\n",
            "[0.09047401] [-0.012347] [-0.01234327] [0.00030203]\n",
            "[0.5755553] [-0.03664324] [-0.03664371] [1.2911135e-05]\n",
            "[0.25272822] [-0.02832687] [-0.0283285] [5.7664176e-05]\n",
            "[0.11045039] [-0.0147413] [-0.01473766] [0.00024677]\n",
            "[0.61225283] [-0.03560825] [-0.0356099] [4.6343957e-05]\n",
            "[0.1290685] [-0.01686467] [-0.01686147] [0.00018978]\n",
            "[0.89660144] [-0.0139071] [-0.0139061] [7.2597926e-05]\n",
            "[0.06479812] [-0.00909334] [-0.0090899] [0.00037899]\n",
            "[0.8622047] [-0.01782191] [-0.01782117] [4.149392e-05]\n",
            "[0.82242084] [-0.02190641] [-0.02190672] [1.4454452e-05]\n",
            "[0.4016037] [-0.03604752] [-0.03604773] [5.7872235e-06]\n",
            "[0.7659943] [-0.02688468] [-0.02688706] [8.853556e-05]\n",
            "[0.4539342] [-0.03718267] [-0.03718169] [2.6350368e-05]\n",
            "[0.32376182] [-0.03283897] [-0.03284102] [6.227531e-05]\n",
            "[0.4617684] [-0.03728184] [-0.03728075] [2.9178187e-05]\n",
            "[0.32858098] [-0.03309037] [-0.03309233] [5.9213202e-05]\n",
            "[0.8104389] [-0.02304335] [-0.02304416] [3.4999128e-05]\n",
            "[0.1609515] [-0.02025905] [-0.02025692] [0.00010538]\n",
            "[0.07981062] [-0.01101972] [-0.01101613] [0.00032574]\n",
            "[0.5934839] [-0.03618804] [-0.03618911] [2.9749524e-05]\n",
            "[0.6243702] [-0.03517775] [-0.03517981] [5.8452853e-05]\n",
            "[0.9112947] [-0.01212643] [-0.0121255] [7.673013e-05]\n",
            "[0.88744843] [-0.01498367] [-0.01498256] [7.415742e-05]\n",
            "[0.9568223] [-0.00619672] [-0.00619701] [4.666373e-05]\n",
            "[0.436625] [-0.03689824] [-0.03689754] [1.8880099e-05]\n",
            "[0.9997524] [-3.5956502e-05] [-3.7130463e-05] [0.0316172]\n",
            "[0.24064243] [-0.02740875] [-0.02741005] [4.736452e-05]\n",
            "[0.8281152] [-0.02135086] [-0.02135106] [9.334573e-06]\n",
            "[0.54077435] [-0.03725116] [-0.03725062] [1.4500889e-05]\n",
            "[0.8436167] [-0.01978943] [-0.01978913] [1.496582e-05]\n",
            "[0.33806038] [-0.03356454] [-0.03356633] [5.3493775e-05]\n",
            "[0.9431902] [-0.00803758] [-0.00803737] [2.6998669e-05]\n",
            "[0.08632314] [-0.01183438] [-0.01183072] [0.00030969]\n",
            "[0.68907607] [-0.03213421] [-0.03213754] [0.00010363]\n",
            "[0.53072953] [-0.03735907] [-0.03735835] [1.924552e-05]\n",
            "[0.9125186] [-0.01197515] [-0.01197426] [7.4743744e-05]\n",
            "[0.06304038] [-0.00886345] [-0.00885994] [0.00039566]\n",
            "[0.95265174] [-0.00676584] [-0.00676596] [1.7481327e-05]\n",
            "[0.8152896] [-0.02258825] [-0.02258887] [2.7293776e-05]\n",
            "[0.57640743] [-0.03662385] [-0.03662429] [1.1900818e-05]\n"
          ]
        }
      ]
    },
    {
      "cell_type": "code",
      "source": [
        "fig2 = plt.figure(figsize=(9,6))\n",
        "ax1 = fig2.add_subplot(111)\n",
        "ax1.scatter(x_test.numpy(), u_modeled, c='b', marker='X',s=200, alpha=0.5)\n",
        "ax1.scatter(x_test.numpy(), u_exact, c='r', marker='.', s=100, alpha=1.0)\n",
        "ax1.set_xlabel('$x$', fontsize = 18)\n",
        "ax1.set_ylabel('$u$', fontsize = 18)"
      ],
      "metadata": {
        "colab": {
          "base_uri": "https://localhost:8080/",
          "height": 413
        },
        "id": "I3Q2uQKHH-rI",
        "outputId": "86c0d3c8-6770-4835-e34c-d3c5d7f55462"
      },
      "execution_count": 59,
      "outputs": [
        {
          "output_type": "execute_result",
          "data": {
            "text/plain": [
              "Text(0, 0.5, '$u$')"
            ]
          },
          "metadata": {},
          "execution_count": 59
        },
        {
          "output_type": "display_data",
          "data": {
            "text/plain": [
              "<Figure size 648x432 with 1 Axes>"
            ],
            "image/png": "[encoded data removed]"
          },
          "metadata": {
            "needs_background": "light"
          }
        }
      ]
    }
  ],
  "metadata": {
    "interpreter": {
      "hash": "916dbcbb3f70747c44a77c7bcd40155683ae19c65e1c03b4aa3499c5328201f1"
    },
    "kernelspec": {
      "display_name": "Python 3.8.10 64-bit",
      "language": "python",
      "name": "python3"
    },
    "language_info": {
      "codemirror_mode": {
        "name": "ipython",
        "version": 3
      },
      "file_extension": ".py",
      "mimetype": "text/x-python",
      "name": "python",
      "nbconvert_exporter": "python",
      "pygments_lexer": "ipython3",
      "version": "3.8.10"
    },
    "orig_nbformat": 4,
    "colab": {
      "name": "ODE_CSUMS2022.ipynb",
      "provenance": [],
      "collapsed_sections": []
    }
  },
  "nbformat": 4,
  "nbformat_minor": 0
}