{
  "cells": [
    {
      "cell_type": "code",
      "execution_count": 1,
      "metadata": {
        "id": "fen8gvEB0PiQ"
      },
      "outputs": [],
      "source": [
        "import tensorflow as tf"
      ]
    },
    {
      "cell_type": "code",
      "execution_count": 2,
      "metadata": {
        "colab": {
          "base_uri": "https://localhost:8080/"
        },
        "id": "NlYM8bX90PiR",
        "outputId": "6e5e7f69-9832-412c-a645-be2cb5d66550"
      },
      "outputs": [
        {
          "output_type": "execute_result",
          "data": {
            "text/plain": [
              "True"
            ]
          },
          "metadata": {},
          "execution_count": 2
        }
      ],
      "source": [
        "tf.executing_eagerly()"
      ]
    },
    {
      "cell_type": "code",
      "execution_count": 7,
      "metadata": {
        "colab": {
          "base_uri": "https://localhost:8080/"
        },
        "id": "M8AykF-w0PiS",
        "outputId": "2c6fc331-75d0-421d-d10c-6aefd6b26717"
      },
      "outputs": [
        {
          "output_type": "stream",
          "name": "stdout",
          "text": [
            "tf.Tensor(6.0, shape=(), dtype=float32)\n"
          ]
        }
      ],
      "source": [
        "x = tf.constant(3.0)\n",
        "\n",
        "with tf.GradientTape() as grad:\n",
        "    grad.watch(x)\n",
        "    y = x**2\n",
        "\n",
        "dy_dx = grad.gradient(y,x)\n",
        "\n",
        "print(dy_dx)"
      ]
    },
    {
      "cell_type": "code",
      "execution_count": 8,
      "metadata": {
        "colab": {
          "base_uri": "https://localhost:8080/"
        },
        "id": "e0XO7OVP0PiS",
        "outputId": "e3d2395f-4719-460a-86b5-c589242c14fd"
      },
      "outputs": [
        {
          "output_type": "stream",
          "name": "stdout",
          "text": [
            "tf.Tensor(6.0, shape=(), dtype=float32)\n",
            "tf.Tensor(2.0, shape=(), dtype=float32)\n"
          ]
        }
      ],
      "source": [
        "x = tf.constant(3.0)\n",
        "\n",
        "with tf.GradientTape() as grad:\n",
        "    grad.watch(x)\n",
        "\n",
        "    with tf.GradientTape() as grad2:\n",
        "        grad2.watch(x)\n",
        "        y = x**2\n",
        "\n",
        "    dy_dx = grad2.gradient(y,x)\n",
        "\n",
        "d2y_dx2 = grad.gradient(dy_dx,x)\n",
        "\n",
        "print(dy_dx)\n",
        "print(d2y_dx2)"
      ]
    },
    {
      "cell_type": "code",
      "execution_count": 9,
      "metadata": {
        "colab": {
          "base_uri": "https://localhost:8080/"
        },
        "id": "X5yKly_h0PiT",
        "outputId": "a28d823d-49f1-4542-944e-a5f1ed049bab"
      },
      "outputs": [
        {
          "output_type": "stream",
          "name": "stdout",
          "text": [
            "WARNING:tensorflow:Calling GradientTape.gradient on a persistent tape inside its context is significantly less efficient than calling it outside the context (it causes the gradient ops to be recorded on the tape, leading to increased CPU and memory usage). Only call GradientTape.gradient inside the context if you actually want to trace the gradient in order to compute higher order derivatives.\n",
            "tf.Tensor(6.0, shape=(), dtype=float32)\n",
            "tf.Tensor(2.0, shape=(), dtype=float32)\n",
            "tf.Tensor(18.0, shape=(), dtype=float32)\n"
          ]
        }
      ],
      "source": [
        "with tf.GradientTape(persistent=True) as grad:   # With persistent option, we keep the value of x for the second gradient\n",
        "    grad.watch(x)\n",
        "    y = x**2\n",
        "    z = y * y\n",
        "\n",
        "    dy_dx = grad.gradient(y,x)   # Kept inside the Tape in order to be able to calculate d2y_dx2\n",
        "\n",
        "d2y_dx2 = grad.gradient(dy_dx,x)\n",
        "dz_dy = grad.gradient(z,y)\n",
        "\n",
        "print(dy_dx)\n",
        "print(d2y_dx2)\n",
        "print(dz_dy)"
      ]
    },
    {
      "cell_type": "code",
      "source": [
        "x = tf.constant(3.0)\n",
        "\n",
        "with tf.GradientTape() as grad:\n",
        "    grad.watch(x)\n",
        "    y = tf.keras.activations.relu(x)\n",
        "    z = y**2\n",
        "\n",
        "dz_dx = grad.gradient(z,x)\n",
        "\n",
        "print(dz_dx)"
      ],
      "metadata": {
        "colab": {
          "base_uri": "https://localhost:8080/"
        },
        "id": "nMq8pOLI9Sql",
        "outputId": "ce223d40-69b7-4bff-f469-8cf0a810f213"
      },
      "execution_count": 10,
      "outputs": [
        {
          "output_type": "stream",
          "name": "stdout",
          "text": [
            "tf.Tensor(6.0, shape=(), dtype=float32)\n"
          ]
        }
      ]
    }
  ],
  "metadata": {
    "interpreter": {
      "hash": "916dbcbb3f70747c44a77c7bcd40155683ae19c65e1c03b4aa3499c5328201f1"
    },
    "kernelspec": {
      "display_name": "Python 3.8.10 64-bit",
      "language": "python",
      "name": "python3"
    },
    "language_info": {
      "codemirror_mode": {
        "name": "ipython",
        "version": 3
      },
      "file_extension": ".py",
      "mimetype": "text/x-python",
      "name": "python",
      "nbconvert_exporter": "python",
      "pygments_lexer": "ipython3",
      "version": "3.8.10"
    },
    "orig_nbformat": 4,
    "colab": {
      "name": "GradientTape_TF.ipynb",
      "provenance": [],
      "collapsed_sections": []
    },
    "accelerator": "GPU"
  },
  "nbformat": 4,
  "nbformat_minor": 0
}